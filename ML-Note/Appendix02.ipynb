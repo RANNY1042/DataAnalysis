{
 "cells": [
  {
   "cell_type": "markdown",
   "id": "c3eba6d3",
   "metadata": {
    "id": "c3eba6d3"
   },
   "source": [
    "---\n",
    "title: KOSPI와 연관된 지수는?\n",
    "jupyter: python3\n",
    "---"
   ]
  },
  {
   "cell_type": "code",
   "execution_count": 2,
   "id": "b31460b7",
   "metadata": {
    "colab": {
     "base_uri": "https://localhost:8080/",
     "height": 455
    },
    "id": "b31460b7",
    "outputId": "cabf83e1-7172-4fc6-ae14-11c9874bac85"
   },
   "outputs": [],
   "source": [
    "from sklearn.cluster import KMeans\n",
    "import FinanceDataReader as fdr\n",
    "import matplotlib.pyplot as plt\n",
    "import numpy as np\n",
    "import pandas as pd\n",
    "import seaborn as sns"
   ]
  },
  {
   "cell_type": "markdown",
   "id": "2725e070",
   "metadata": {
    "id": "2725e070"
   },
   "source": [
    "## 세계 각국의 지수들 관련 데이터 불러오기"
   ]
  },
  {
   "cell_type": "markdown",
   "id": "1fbc6813",
   "metadata": {
    "id": "1fbc6813"
   },
   "source": [
    "### KOSPI\n",
    "* change(수익률)에 * 100을 해서 %수치로 보이기 편하게 수정하였고, Open(시가), High(고가), Close(종가), Volume(거래량)을 제거"
   ]
  },
  {
   "cell_type": "code",
   "execution_count": 3,
   "id": "5e3d7603",
   "metadata": {
    "id": "5e3d7603"
   },
   "outputs": [
    {
     "data": {
      "text/html": [
       "<div>\n",
       "<style scoped>\n",
       "    .dataframe tbody tr th:only-of-type {\n",
       "        vertical-align: middle;\n",
       "    }\n",
       "\n",
       "    .dataframe tbody tr th {\n",
       "        vertical-align: top;\n",
       "    }\n",
       "\n",
       "    .dataframe thead th {\n",
       "        text-align: right;\n",
       "    }\n",
       "</style>\n",
       "<table border=\"1\" class=\"dataframe\">\n",
       "  <thead>\n",
       "    <tr style=\"text-align: right;\">\n",
       "      <th></th>\n",
       "      <th>KOSPI</th>\n",
       "    </tr>\n",
       "    <tr>\n",
       "      <th>Date</th>\n",
       "      <th></th>\n",
       "    </tr>\n",
       "  </thead>\n",
       "  <tbody>\n",
       "    <tr>\n",
       "      <th>2001-06-11</th>\n",
       "      <td>-2.18</td>\n",
       "    </tr>\n",
       "    <tr>\n",
       "      <th>2001-06-12</th>\n",
       "      <td>-0.18</td>\n",
       "    </tr>\n",
       "    <tr>\n",
       "      <th>2001-06-13</th>\n",
       "      <td>1.14</td>\n",
       "    </tr>\n",
       "    <tr>\n",
       "      <th>2001-06-14</th>\n",
       "      <td>-0.05</td>\n",
       "    </tr>\n",
       "    <tr>\n",
       "      <th>2001-06-15</th>\n",
       "      <td>0.85</td>\n",
       "    </tr>\n",
       "  </tbody>\n",
       "</table>\n",
       "</div>"
      ],
      "text/plain": [
       "            KOSPI\n",
       "Date             \n",
       "2001-06-11  -2.18\n",
       "2001-06-12  -0.18\n",
       "2001-06-13   1.14\n",
       "2001-06-14  -0.05\n",
       "2001-06-15   0.85"
      ]
     },
     "execution_count": 3,
     "metadata": {},
     "output_type": "execute_result"
    }
   ],
   "source": [
    "kospi = fdr.DataReader(\"KS11\")\n",
    "kospi[\"Change\"] = kospi[\"Change\"] * 100\n",
    "kospi = kospi.drop(\n",
    "    [\"Open\", \"High\", \"Low\", \"Close\", \"Volume\", \"UpDown\", \"Comp\", \"Amount\", \"MarCap\"],\n",
    "    axis=1,\n",
    ")\n",
    "kospi.rename(columns={\"Change\": \"KOSPI\"}, inplace=True)\n",
    "kospi.head()"
   ]
  },
  {
   "cell_type": "markdown",
   "id": "cd7fd526",
   "metadata": {
    "id": "cd7fd526"
   },
   "source": [
    "### Nasdaq"
   ]
  },
  {
   "cell_type": "code",
   "execution_count": 4,
   "id": "1751669c",
   "metadata": {
    "id": "1751669c"
   },
   "outputs": [
    {
     "data": {
      "text/html": [
       "<div>\n",
       "<style scoped>\n",
       "    .dataframe tbody tr th:only-of-type {\n",
       "        vertical-align: middle;\n",
       "    }\n",
       "\n",
       "    .dataframe tbody tr th {\n",
       "        vertical-align: top;\n",
       "    }\n",
       "\n",
       "    .dataframe thead th {\n",
       "        text-align: right;\n",
       "    }\n",
       "</style>\n",
       "<table border=\"1\" class=\"dataframe\">\n",
       "  <thead>\n",
       "    <tr style=\"text-align: right;\">\n",
       "      <th></th>\n",
       "      <th>NASDAQ</th>\n",
       "    </tr>\n",
       "    <tr>\n",
       "      <th>Date</th>\n",
       "      <th></th>\n",
       "    </tr>\n",
       "  </thead>\n",
       "  <tbody>\n",
       "    <tr>\n",
       "      <th>2001-06-11</th>\n",
       "      <td>-2.00</td>\n",
       "    </tr>\n",
       "    <tr>\n",
       "      <th>2001-06-12</th>\n",
       "      <td>-0.04</td>\n",
       "    </tr>\n",
       "    <tr>\n",
       "      <th>2001-06-13</th>\n",
       "      <td>-2.23</td>\n",
       "    </tr>\n",
       "    <tr>\n",
       "      <th>2001-06-14</th>\n",
       "      <td>-3.66</td>\n",
       "    </tr>\n",
       "    <tr>\n",
       "      <th>2001-06-15</th>\n",
       "      <td>-0.77</td>\n",
       "    </tr>\n",
       "    <tr>\n",
       "      <th>...</th>\n",
       "      <td>...</td>\n",
       "    </tr>\n",
       "    <tr>\n",
       "      <th>2024-04-26</th>\n",
       "      <td>2.03</td>\n",
       "    </tr>\n",
       "    <tr>\n",
       "      <th>2024-04-29</th>\n",
       "      <td>0.35</td>\n",
       "    </tr>\n",
       "    <tr>\n",
       "      <th>2024-04-30</th>\n",
       "      <td>-2.04</td>\n",
       "    </tr>\n",
       "    <tr>\n",
       "      <th>2024-05-01</th>\n",
       "      <td>-0.33</td>\n",
       "    </tr>\n",
       "    <tr>\n",
       "      <th>2024-05-02</th>\n",
       "      <td>1.51</td>\n",
       "    </tr>\n",
       "  </tbody>\n",
       "</table>\n",
       "<p>5760 rows × 1 columns</p>\n",
       "</div>"
      ],
      "text/plain": [
       "            NASDAQ\n",
       "Date              \n",
       "2001-06-11   -2.00\n",
       "2001-06-12   -0.04\n",
       "2001-06-13   -2.23\n",
       "2001-06-14   -3.66\n",
       "2001-06-15   -0.77\n",
       "...            ...\n",
       "2024-04-26    2.03\n",
       "2024-04-29    0.35\n",
       "2024-04-30   -2.04\n",
       "2024-05-01   -0.33\n",
       "2024-05-02    1.51\n",
       "\n",
       "[5760 rows x 1 columns]"
      ]
     },
     "execution_count": 4,
     "metadata": {},
     "output_type": "execute_result"
    }
   ],
   "source": [
    "nasdaq = fdr.DataReader(\"IXIC\", \"2001-06-08\")\n",
    "nasdaq[\"Change\"] = round(nasdaq[\"Adj Close\"].pct_change() * 100, 2)\n",
    "nasdaq = nasdaq.drop([\"High\", \"Low\", \"Open\", \"Close\", \"Volume\", \"Adj Close\"], axis=1)\n",
    "nasdaq = nasdaq.drop(\"2001-06-08\", axis=0)\n",
    "nasdaq.rename(columns={\"Change\": \"NASDAQ\"}, inplace=True)\n",
    "nasdaq"
   ]
  },
  {
   "cell_type": "markdown",
   "id": "45748ece",
   "metadata": {
    "id": "45748ece"
   },
   "source": [
    "### S&P "
   ]
  },
  {
   "cell_type": "code",
   "execution_count": 5,
   "id": "2163709f",
   "metadata": {
    "id": "2163709f"
   },
   "outputs": [
    {
     "data": {
      "text/html": [
       "<div>\n",
       "<style scoped>\n",
       "    .dataframe tbody tr th:only-of-type {\n",
       "        vertical-align: middle;\n",
       "    }\n",
       "\n",
       "    .dataframe tbody tr th {\n",
       "        vertical-align: top;\n",
       "    }\n",
       "\n",
       "    .dataframe thead th {\n",
       "        text-align: right;\n",
       "    }\n",
       "</style>\n",
       "<table border=\"1\" class=\"dataframe\">\n",
       "  <thead>\n",
       "    <tr style=\"text-align: right;\">\n",
       "      <th></th>\n",
       "      <th>S&amp;P</th>\n",
       "    </tr>\n",
       "    <tr>\n",
       "      <th>Date</th>\n",
       "      <th></th>\n",
       "    </tr>\n",
       "  </thead>\n",
       "  <tbody>\n",
       "    <tr>\n",
       "      <th>2001-06-11</th>\n",
       "      <td>-0.84</td>\n",
       "    </tr>\n",
       "    <tr>\n",
       "      <th>2001-06-12</th>\n",
       "      <td>0.12</td>\n",
       "    </tr>\n",
       "    <tr>\n",
       "      <th>2001-06-13</th>\n",
       "      <td>-1.13</td>\n",
       "    </tr>\n",
       "    <tr>\n",
       "      <th>2001-06-14</th>\n",
       "      <td>-1.75</td>\n",
       "    </tr>\n",
       "    <tr>\n",
       "      <th>2001-06-15</th>\n",
       "      <td>-0.45</td>\n",
       "    </tr>\n",
       "  </tbody>\n",
       "</table>\n",
       "</div>"
      ],
      "text/plain": [
       "             S&P\n",
       "Date            \n",
       "2001-06-11 -0.84\n",
       "2001-06-12  0.12\n",
       "2001-06-13 -1.13\n",
       "2001-06-14 -1.75\n",
       "2001-06-15 -0.45"
      ]
     },
     "execution_count": 5,
     "metadata": {},
     "output_type": "execute_result"
    }
   ],
   "source": [
    "sap = fdr.DataReader(\"S&P500\", \"2001-06-08\", \"2024-01-23\")\n",
    "sap[\"Change\"] = round(sap[\"Adj Close\"].pct_change() * 100, 2)\n",
    "sap = sap.drop([\"High\", \"Low\", \"Open\", \"Close\", \"Volume\", \"Adj Close\"], axis=1)\n",
    "sap = sap.drop(\"2001-06-08\", axis=0)\n",
    "sap.rename(columns={\"Change\": \"S&P\"}, inplace=True)\n",
    "sap.head()"
   ]
  },
  {
   "cell_type": "markdown",
   "id": "871db0eb",
   "metadata": {
    "id": "871db0eb"
   },
   "source": [
    "### 미국 10년 국채"
   ]
  },
  {
   "cell_type": "code",
   "execution_count": 6,
   "id": "82820835",
   "metadata": {
    "id": "82820835"
   },
   "outputs": [
    {
     "name": "stderr",
     "output_type": "stream",
     "text": [
      "C:\\Users\\user\\AppData\\Local\\Temp\\ipykernel_19264\\2256364050.py:2: FutureWarning: The default fill_method='pad' in Series.pct_change is deprecated and will be removed in a future version. Either fill in any non-leading NA values prior to calling pct_change or specify 'fill_method=None' to not fill NA values.\n",
      "  usa_treasury[\"Change\"] = round(usa_treasury[\"Adj Close\"].pct_change() * 100, 2)\n"
     ]
    },
    {
     "data": {
      "text/html": [
       "<div>\n",
       "<style scoped>\n",
       "    .dataframe tbody tr th:only-of-type {\n",
       "        vertical-align: middle;\n",
       "    }\n",
       "\n",
       "    .dataframe tbody tr th {\n",
       "        vertical-align: top;\n",
       "    }\n",
       "\n",
       "    .dataframe thead th {\n",
       "        text-align: right;\n",
       "    }\n",
       "</style>\n",
       "<table border=\"1\" class=\"dataframe\">\n",
       "  <thead>\n",
       "    <tr style=\"text-align: right;\">\n",
       "      <th></th>\n",
       "      <th>USA_TREASURY</th>\n",
       "    </tr>\n",
       "    <tr>\n",
       "      <th>Date</th>\n",
       "      <th></th>\n",
       "    </tr>\n",
       "  </thead>\n",
       "  <tbody>\n",
       "    <tr>\n",
       "      <th>2001-06-11</th>\n",
       "      <td>-0.86</td>\n",
       "    </tr>\n",
       "    <tr>\n",
       "      <th>2001-06-12</th>\n",
       "      <td>-0.89</td>\n",
       "    </tr>\n",
       "    <tr>\n",
       "      <th>2001-06-13</th>\n",
       "      <td>0.32</td>\n",
       "    </tr>\n",
       "    <tr>\n",
       "      <th>2001-06-14</th>\n",
       "      <td>-0.80</td>\n",
       "    </tr>\n",
       "    <tr>\n",
       "      <th>2001-06-15</th>\n",
       "      <td>0.25</td>\n",
       "    </tr>\n",
       "    <tr>\n",
       "      <th>...</th>\n",
       "      <td>...</td>\n",
       "    </tr>\n",
       "    <tr>\n",
       "      <th>2024-01-16</th>\n",
       "      <td>2.94</td>\n",
       "    </tr>\n",
       "    <tr>\n",
       "      <th>2024-01-17</th>\n",
       "      <td>0.98</td>\n",
       "    </tr>\n",
       "    <tr>\n",
       "      <th>2024-01-18</th>\n",
       "      <td>0.93</td>\n",
       "    </tr>\n",
       "    <tr>\n",
       "      <th>2024-01-19</th>\n",
       "      <td>0.05</td>\n",
       "    </tr>\n",
       "    <tr>\n",
       "      <th>2024-01-22</th>\n",
       "      <td>-1.25</td>\n",
       "    </tr>\n",
       "  </tbody>\n",
       "</table>\n",
       "<p>5901 rows × 1 columns</p>\n",
       "</div>"
      ],
      "text/plain": [
       "            USA_TREASURY\n",
       "Date                    \n",
       "2001-06-11         -0.86\n",
       "2001-06-12         -0.89\n",
       "2001-06-13          0.32\n",
       "2001-06-14         -0.80\n",
       "2001-06-15          0.25\n",
       "...                  ...\n",
       "2024-01-16          2.94\n",
       "2024-01-17          0.98\n",
       "2024-01-18          0.93\n",
       "2024-01-19          0.05\n",
       "2024-01-22         -1.25\n",
       "\n",
       "[5901 rows x 1 columns]"
      ]
     },
     "execution_count": 6,
     "metadata": {},
     "output_type": "execute_result"
    }
   ],
   "source": [
    "usa_treasury = fdr.DataReader(\"US10YT\", \"2001-06-08\", \"2024-01-23\")\n",
    "usa_treasury[\"Change\"] = round(usa_treasury[\"Adj Close\"].pct_change() * 100, 2)\n",
    "usa_treasury = usa_treasury.drop(\n",
    "    [\"High\", \"Low\", \"Open\", \"Close\", \"Volume\", \"Adj Close\"], axis=1\n",
    ")\n",
    "usa_treasury = usa_treasury.drop(\"2001-06-08\", axis=0)\n",
    "usa_treasury = usa_treasury.rename(columns={\"Change\": \"USA_TREASURY\"})\n",
    "usa_treasury"
   ]
  },
  {
   "cell_type": "markdown",
   "id": "5312a764",
   "metadata": {
    "id": "5312a764"
   },
   "source": [
    "### Nikkei"
   ]
  },
  {
   "cell_type": "code",
   "execution_count": 7,
   "id": "343fd846",
   "metadata": {
    "id": "343fd846"
   },
   "outputs": [
    {
     "name": "stderr",
     "output_type": "stream",
     "text": [
      "C:\\Users\\user\\AppData\\Local\\Temp\\ipykernel_19264\\1959846037.py:2: FutureWarning: The default fill_method='pad' in Series.pct_change is deprecated and will be removed in a future version. Either fill in any non-leading NA values prior to calling pct_change or specify 'fill_method=None' to not fill NA values.\n",
      "  japan[\"Change\"] = round(japan[\"Adj Close\"].pct_change() * 100, 2)\n"
     ]
    },
    {
     "data": {
      "text/html": [
       "<div>\n",
       "<style scoped>\n",
       "    .dataframe tbody tr th:only-of-type {\n",
       "        vertical-align: middle;\n",
       "    }\n",
       "\n",
       "    .dataframe tbody tr th {\n",
       "        vertical-align: top;\n",
       "    }\n",
       "\n",
       "    .dataframe thead th {\n",
       "        text-align: right;\n",
       "    }\n",
       "</style>\n",
       "<table border=\"1\" class=\"dataframe\">\n",
       "  <thead>\n",
       "    <tr style=\"text-align: right;\">\n",
       "      <th></th>\n",
       "      <th>Nikkei</th>\n",
       "    </tr>\n",
       "    <tr>\n",
       "      <th>Date</th>\n",
       "      <th></th>\n",
       "    </tr>\n",
       "  </thead>\n",
       "  <tbody>\n",
       "    <tr>\n",
       "      <th>2001-06-11</th>\n",
       "      <td>-1.52</td>\n",
       "    </tr>\n",
       "    <tr>\n",
       "      <th>2001-06-12</th>\n",
       "      <td>-2.92</td>\n",
       "    </tr>\n",
       "    <tr>\n",
       "      <th>2001-06-13</th>\n",
       "      <td>-0.13</td>\n",
       "    </tr>\n",
       "    <tr>\n",
       "      <th>2001-06-14</th>\n",
       "      <td>0.18</td>\n",
       "    </tr>\n",
       "    <tr>\n",
       "      <th>2001-06-15</th>\n",
       "      <td>-0.44</td>\n",
       "    </tr>\n",
       "    <tr>\n",
       "      <th>...</th>\n",
       "      <td>...</td>\n",
       "    </tr>\n",
       "    <tr>\n",
       "      <th>2024-01-16</th>\n",
       "      <td>-0.79</td>\n",
       "    </tr>\n",
       "    <tr>\n",
       "      <th>2024-01-17</th>\n",
       "      <td>-0.40</td>\n",
       "    </tr>\n",
       "    <tr>\n",
       "      <th>2024-01-18</th>\n",
       "      <td>-0.03</td>\n",
       "    </tr>\n",
       "    <tr>\n",
       "      <th>2024-01-19</th>\n",
       "      <td>1.40</td>\n",
       "    </tr>\n",
       "    <tr>\n",
       "      <th>2024-01-22</th>\n",
       "      <td>1.62</td>\n",
       "    </tr>\n",
       "  </tbody>\n",
       "</table>\n",
       "<p>5641 rows × 1 columns</p>\n",
       "</div>"
      ],
      "text/plain": [
       "            Nikkei\n",
       "Date              \n",
       "2001-06-11   -1.52\n",
       "2001-06-12   -2.92\n",
       "2001-06-13   -0.13\n",
       "2001-06-14    0.18\n",
       "2001-06-15   -0.44\n",
       "...            ...\n",
       "2024-01-16   -0.79\n",
       "2024-01-17   -0.40\n",
       "2024-01-18   -0.03\n",
       "2024-01-19    1.40\n",
       "2024-01-22    1.62\n",
       "\n",
       "[5641 rows x 1 columns]"
      ]
     },
     "execution_count": 7,
     "metadata": {},
     "output_type": "execute_result"
    }
   ],
   "source": [
    "japan = fdr.DataReader(\"N225\", \"2001-06-08\", \"2024-01-23\")\n",
    "japan[\"Change\"] = round(japan[\"Adj Close\"].pct_change() * 100, 2)\n",
    "japan = japan.drop([\"High\", \"Low\", \"Open\", \"Close\", \"Volume\", \"Adj Close\"], axis=1)\n",
    "japan = japan.drop(\"2001-06-08\", axis=0)\n",
    "japan.rename(columns={\"Change\": \"Nikkei\"}, inplace=True)\n",
    "japan"
   ]
  },
  {
   "cell_type": "code",
   "execution_count": 8,
   "id": "c451def4",
   "metadata": {
    "id": "c451def4"
   },
   "outputs": [
    {
     "name": "stderr",
     "output_type": "stream",
     "text": [
      "C:\\Users\\user\\AppData\\Local\\Temp\\ipykernel_19264\\1180829902.py:2: FutureWarning: The default fill_method='pad' in Series.pct_change is deprecated and will be removed in a future version. Either fill in any non-leading NA values prior to calling pct_change or specify 'fill_method=None' to not fill NA values.\n",
      "  usd_krw[\"Change\"] = round(usd_krw[\"Adj Close\"].pct_change() * 100, 2)\n"
     ]
    },
    {
     "data": {
      "text/html": [
       "<div>\n",
       "<style scoped>\n",
       "    .dataframe tbody tr th:only-of-type {\n",
       "        vertical-align: middle;\n",
       "    }\n",
       "\n",
       "    .dataframe tbody tr th {\n",
       "        vertical-align: top;\n",
       "    }\n",
       "\n",
       "    .dataframe thead th {\n",
       "        text-align: right;\n",
       "    }\n",
       "</style>\n",
       "<table border=\"1\" class=\"dataframe\">\n",
       "  <thead>\n",
       "    <tr style=\"text-align: right;\">\n",
       "      <th></th>\n",
       "      <th>USD/KRW</th>\n",
       "    </tr>\n",
       "    <tr>\n",
       "      <th>Date</th>\n",
       "      <th></th>\n",
       "    </tr>\n",
       "  </thead>\n",
       "  <tbody>\n",
       "    <tr>\n",
       "      <th>2003-12-01</th>\n",
       "      <td>NaN</td>\n",
       "    </tr>\n",
       "    <tr>\n",
       "      <th>2003-12-02</th>\n",
       "      <td>-0.28</td>\n",
       "    </tr>\n",
       "    <tr>\n",
       "      <th>2003-12-03</th>\n",
       "      <td>-0.21</td>\n",
       "    </tr>\n",
       "    <tr>\n",
       "      <th>2003-12-04</th>\n",
       "      <td>-0.20</td>\n",
       "    </tr>\n",
       "    <tr>\n",
       "      <th>2003-12-05</th>\n",
       "      <td>-0.45</td>\n",
       "    </tr>\n",
       "    <tr>\n",
       "      <th>...</th>\n",
       "      <td>...</td>\n",
       "    </tr>\n",
       "    <tr>\n",
       "      <th>2024-04-29</th>\n",
       "      <td>0.39</td>\n",
       "    </tr>\n",
       "    <tr>\n",
       "      <th>2024-04-30</th>\n",
       "      <td>-0.18</td>\n",
       "    </tr>\n",
       "    <tr>\n",
       "      <th>2024-05-01</th>\n",
       "      <td>0.79</td>\n",
       "    </tr>\n",
       "    <tr>\n",
       "      <th>2024-05-02</th>\n",
       "      <td>-0.75</td>\n",
       "    </tr>\n",
       "    <tr>\n",
       "      <th>2024-05-03</th>\n",
       "      <td>-0.77</td>\n",
       "    </tr>\n",
       "  </tbody>\n",
       "</table>\n",
       "<p>5330 rows × 1 columns</p>\n",
       "</div>"
      ],
      "text/plain": [
       "            USD/KRW\n",
       "Date               \n",
       "2003-12-01      NaN\n",
       "2003-12-02    -0.28\n",
       "2003-12-03    -0.21\n",
       "2003-12-04    -0.20\n",
       "2003-12-05    -0.45\n",
       "...             ...\n",
       "2024-04-29     0.39\n",
       "2024-04-30    -0.18\n",
       "2024-05-01     0.79\n",
       "2024-05-02    -0.75\n",
       "2024-05-03    -0.77\n",
       "\n",
       "[5330 rows x 1 columns]"
      ]
     },
     "execution_count": 8,
     "metadata": {},
     "output_type": "execute_result"
    }
   ],
   "source": [
    "usd_krw = fdr.DataReader(\"USD/KRW\", \"2001-06-08\")\n",
    "usd_krw[\"Change\"] = round(usd_krw[\"Adj Close\"].pct_change() * 100, 2)\n",
    "usd_krw = usd_krw.drop([\"High\", \"Low\", \"Open\", \"Close\", \"Volume\", \"Adj Close\"], axis=1)\n",
    "usd_krw = usd_krw.rename(columns={\"Change\": \"USD/KRW\"})\n",
    "usd_krw"
   ]
  },
  {
   "cell_type": "markdown",
   "id": "05bbd5f4",
   "metadata": {
    "id": "05bbd5f4"
   },
   "source": [
    "## 데이터 병합\n",
    "각 지수들 및 환율 국채를 합쳐줍니다. 결측치는 평균으로 대체하였습니다."
   ]
  },
  {
   "cell_type": "code",
   "execution_count": 9,
   "id": "14c71d5a",
   "metadata": {
    "id": "14c71d5a"
   },
   "outputs": [],
   "source": [
    "result_data = pd.concat([kospi, nasdaq, sap, usd_krw, usa_treasury, japan], axis=1)\n",
    "result_data.fillna(result_data.mean(), inplace=True)\n",
    "result_data = round(result_data, 2)"
   ]
  },
  {
   "cell_type": "code",
   "execution_count": 11,
   "id": "3b28cbcb",
   "metadata": {},
   "outputs": [
    {
     "ename": "OSError",
     "evalue": "Cannot save file into a non-existent directory: 'data'",
     "output_type": "error",
     "traceback": [
      "\u001b[1;31m---------------------------------------------------------------------------\u001b[0m",
      "\u001b[1;31mOSError\u001b[0m                                   Traceback (most recent call last)",
      "Cell \u001b[1;32mIn[11], line 1\u001b[0m\n\u001b[1;32m----> 1\u001b[0m \u001b[43mresult_data\u001b[49m\u001b[38;5;241;43m.\u001b[39;49m\u001b[43mto_csv\u001b[49m\u001b[43m(\u001b[49m\u001b[38;5;124;43m\"\u001b[39;49m\u001b[38;5;124;43m./data/kospi_result_data.csv\u001b[39;49m\u001b[38;5;124;43m\"\u001b[39;49m\u001b[43m)\u001b[49m\n",
      "File \u001b[1;32m~\\AppData\\Local\\Programs\\Python\\Python39\\lib\\site-packages\\pandas\\util\\_decorators.py:333\u001b[0m, in \u001b[0;36mdeprecate_nonkeyword_arguments.<locals>.decorate.<locals>.wrapper\u001b[1;34m(*args, **kwargs)\u001b[0m\n\u001b[0;32m    327\u001b[0m \u001b[38;5;28;01mif\u001b[39;00m \u001b[38;5;28mlen\u001b[39m(args) \u001b[38;5;241m>\u001b[39m num_allow_args:\n\u001b[0;32m    328\u001b[0m     warnings\u001b[38;5;241m.\u001b[39mwarn(\n\u001b[0;32m    329\u001b[0m         msg\u001b[38;5;241m.\u001b[39mformat(arguments\u001b[38;5;241m=\u001b[39m_format_argument_list(allow_args)),\n\u001b[0;32m    330\u001b[0m         \u001b[38;5;167;01mFutureWarning\u001b[39;00m,\n\u001b[0;32m    331\u001b[0m         stacklevel\u001b[38;5;241m=\u001b[39mfind_stack_level(),\n\u001b[0;32m    332\u001b[0m     )\n\u001b[1;32m--> 333\u001b[0m \u001b[38;5;28;01mreturn\u001b[39;00m func(\u001b[38;5;241m*\u001b[39margs, \u001b[38;5;241m*\u001b[39m\u001b[38;5;241m*\u001b[39mkwargs)\n",
      "File \u001b[1;32m~\\AppData\\Local\\Programs\\Python\\Python39\\lib\\site-packages\\pandas\\core\\generic.py:3967\u001b[0m, in \u001b[0;36mNDFrame.to_csv\u001b[1;34m(self, path_or_buf, sep, na_rep, float_format, columns, header, index, index_label, mode, encoding, compression, quoting, quotechar, lineterminator, chunksize, date_format, doublequote, escapechar, decimal, errors, storage_options)\u001b[0m\n\u001b[0;32m   3956\u001b[0m df \u001b[38;5;241m=\u001b[39m \u001b[38;5;28mself\u001b[39m \u001b[38;5;28;01mif\u001b[39;00m \u001b[38;5;28misinstance\u001b[39m(\u001b[38;5;28mself\u001b[39m, ABCDataFrame) \u001b[38;5;28;01melse\u001b[39;00m \u001b[38;5;28mself\u001b[39m\u001b[38;5;241m.\u001b[39mto_frame()\n\u001b[0;32m   3958\u001b[0m formatter \u001b[38;5;241m=\u001b[39m DataFrameFormatter(\n\u001b[0;32m   3959\u001b[0m     frame\u001b[38;5;241m=\u001b[39mdf,\n\u001b[0;32m   3960\u001b[0m     header\u001b[38;5;241m=\u001b[39mheader,\n\u001b[1;32m   (...)\u001b[0m\n\u001b[0;32m   3964\u001b[0m     decimal\u001b[38;5;241m=\u001b[39mdecimal,\n\u001b[0;32m   3965\u001b[0m )\n\u001b[1;32m-> 3967\u001b[0m \u001b[38;5;28;01mreturn\u001b[39;00m \u001b[43mDataFrameRenderer\u001b[49m\u001b[43m(\u001b[49m\u001b[43mformatter\u001b[49m\u001b[43m)\u001b[49m\u001b[38;5;241;43m.\u001b[39;49m\u001b[43mto_csv\u001b[49m\u001b[43m(\u001b[49m\n\u001b[0;32m   3968\u001b[0m \u001b[43m    \u001b[49m\u001b[43mpath_or_buf\u001b[49m\u001b[43m,\u001b[49m\n\u001b[0;32m   3969\u001b[0m \u001b[43m    \u001b[49m\u001b[43mlineterminator\u001b[49m\u001b[38;5;241;43m=\u001b[39;49m\u001b[43mlineterminator\u001b[49m\u001b[43m,\u001b[49m\n\u001b[0;32m   3970\u001b[0m \u001b[43m    \u001b[49m\u001b[43msep\u001b[49m\u001b[38;5;241;43m=\u001b[39;49m\u001b[43msep\u001b[49m\u001b[43m,\u001b[49m\n\u001b[0;32m   3971\u001b[0m \u001b[43m    \u001b[49m\u001b[43mencoding\u001b[49m\u001b[38;5;241;43m=\u001b[39;49m\u001b[43mencoding\u001b[49m\u001b[43m,\u001b[49m\n\u001b[0;32m   3972\u001b[0m \u001b[43m    \u001b[49m\u001b[43merrors\u001b[49m\u001b[38;5;241;43m=\u001b[39;49m\u001b[43merrors\u001b[49m\u001b[43m,\u001b[49m\n\u001b[0;32m   3973\u001b[0m \u001b[43m    \u001b[49m\u001b[43mcompression\u001b[49m\u001b[38;5;241;43m=\u001b[39;49m\u001b[43mcompression\u001b[49m\u001b[43m,\u001b[49m\n\u001b[0;32m   3974\u001b[0m \u001b[43m    \u001b[49m\u001b[43mquoting\u001b[49m\u001b[38;5;241;43m=\u001b[39;49m\u001b[43mquoting\u001b[49m\u001b[43m,\u001b[49m\n\u001b[0;32m   3975\u001b[0m \u001b[43m    \u001b[49m\u001b[43mcolumns\u001b[49m\u001b[38;5;241;43m=\u001b[39;49m\u001b[43mcolumns\u001b[49m\u001b[43m,\u001b[49m\n\u001b[0;32m   3976\u001b[0m \u001b[43m    \u001b[49m\u001b[43mindex_label\u001b[49m\u001b[38;5;241;43m=\u001b[39;49m\u001b[43mindex_label\u001b[49m\u001b[43m,\u001b[49m\n\u001b[0;32m   3977\u001b[0m \u001b[43m    \u001b[49m\u001b[43mmode\u001b[49m\u001b[38;5;241;43m=\u001b[39;49m\u001b[43mmode\u001b[49m\u001b[43m,\u001b[49m\n\u001b[0;32m   3978\u001b[0m \u001b[43m    \u001b[49m\u001b[43mchunksize\u001b[49m\u001b[38;5;241;43m=\u001b[39;49m\u001b[43mchunksize\u001b[49m\u001b[43m,\u001b[49m\n\u001b[0;32m   3979\u001b[0m \u001b[43m    \u001b[49m\u001b[43mquotechar\u001b[49m\u001b[38;5;241;43m=\u001b[39;49m\u001b[43mquotechar\u001b[49m\u001b[43m,\u001b[49m\n\u001b[0;32m   3980\u001b[0m \u001b[43m    \u001b[49m\u001b[43mdate_format\u001b[49m\u001b[38;5;241;43m=\u001b[39;49m\u001b[43mdate_format\u001b[49m\u001b[43m,\u001b[49m\n\u001b[0;32m   3981\u001b[0m \u001b[43m    \u001b[49m\u001b[43mdoublequote\u001b[49m\u001b[38;5;241;43m=\u001b[39;49m\u001b[43mdoublequote\u001b[49m\u001b[43m,\u001b[49m\n\u001b[0;32m   3982\u001b[0m \u001b[43m    \u001b[49m\u001b[43mescapechar\u001b[49m\u001b[38;5;241;43m=\u001b[39;49m\u001b[43mescapechar\u001b[49m\u001b[43m,\u001b[49m\n\u001b[0;32m   3983\u001b[0m \u001b[43m    \u001b[49m\u001b[43mstorage_options\u001b[49m\u001b[38;5;241;43m=\u001b[39;49m\u001b[43mstorage_options\u001b[49m\u001b[43m,\u001b[49m\n\u001b[0;32m   3984\u001b[0m \u001b[43m\u001b[49m\u001b[43m)\u001b[49m\n",
      "File \u001b[1;32m~\\AppData\\Local\\Programs\\Python\\Python39\\lib\\site-packages\\pandas\\io\\formats\\format.py:1014\u001b[0m, in \u001b[0;36mDataFrameRenderer.to_csv\u001b[1;34m(self, path_or_buf, encoding, sep, columns, index_label, mode, compression, quoting, quotechar, lineterminator, chunksize, date_format, doublequote, escapechar, errors, storage_options)\u001b[0m\n\u001b[0;32m    993\u001b[0m     created_buffer \u001b[38;5;241m=\u001b[39m \u001b[38;5;28;01mFalse\u001b[39;00m\n\u001b[0;32m    995\u001b[0m csv_formatter \u001b[38;5;241m=\u001b[39m CSVFormatter(\n\u001b[0;32m    996\u001b[0m     path_or_buf\u001b[38;5;241m=\u001b[39mpath_or_buf,\n\u001b[0;32m    997\u001b[0m     lineterminator\u001b[38;5;241m=\u001b[39mlineterminator,\n\u001b[1;32m   (...)\u001b[0m\n\u001b[0;32m   1012\u001b[0m     formatter\u001b[38;5;241m=\u001b[39m\u001b[38;5;28mself\u001b[39m\u001b[38;5;241m.\u001b[39mfmt,\n\u001b[0;32m   1013\u001b[0m )\n\u001b[1;32m-> 1014\u001b[0m \u001b[43mcsv_formatter\u001b[49m\u001b[38;5;241;43m.\u001b[39;49m\u001b[43msave\u001b[49m\u001b[43m(\u001b[49m\u001b[43m)\u001b[49m\n\u001b[0;32m   1016\u001b[0m \u001b[38;5;28;01mif\u001b[39;00m created_buffer:\n\u001b[0;32m   1017\u001b[0m     \u001b[38;5;28;01massert\u001b[39;00m \u001b[38;5;28misinstance\u001b[39m(path_or_buf, StringIO)\n",
      "File \u001b[1;32m~\\AppData\\Local\\Programs\\Python\\Python39\\lib\\site-packages\\pandas\\io\\formats\\csvs.py:251\u001b[0m, in \u001b[0;36mCSVFormatter.save\u001b[1;34m(self)\u001b[0m\n\u001b[0;32m    247\u001b[0m \u001b[38;5;250m\u001b[39m\u001b[38;5;124;03m\"\"\"\u001b[39;00m\n\u001b[0;32m    248\u001b[0m \u001b[38;5;124;03mCreate the writer & save.\u001b[39;00m\n\u001b[0;32m    249\u001b[0m \u001b[38;5;124;03m\"\"\"\u001b[39;00m\n\u001b[0;32m    250\u001b[0m \u001b[38;5;66;03m# apply compression and byte/text conversion\u001b[39;00m\n\u001b[1;32m--> 251\u001b[0m \u001b[38;5;28;01mwith\u001b[39;00m \u001b[43mget_handle\u001b[49m\u001b[43m(\u001b[49m\n\u001b[0;32m    252\u001b[0m \u001b[43m    \u001b[49m\u001b[38;5;28;43mself\u001b[39;49m\u001b[38;5;241;43m.\u001b[39;49m\u001b[43mfilepath_or_buffer\u001b[49m\u001b[43m,\u001b[49m\n\u001b[0;32m    253\u001b[0m \u001b[43m    \u001b[49m\u001b[38;5;28;43mself\u001b[39;49m\u001b[38;5;241;43m.\u001b[39;49m\u001b[43mmode\u001b[49m\u001b[43m,\u001b[49m\n\u001b[0;32m    254\u001b[0m \u001b[43m    \u001b[49m\u001b[43mencoding\u001b[49m\u001b[38;5;241;43m=\u001b[39;49m\u001b[38;5;28;43mself\u001b[39;49m\u001b[38;5;241;43m.\u001b[39;49m\u001b[43mencoding\u001b[49m\u001b[43m,\u001b[49m\n\u001b[0;32m    255\u001b[0m \u001b[43m    \u001b[49m\u001b[43merrors\u001b[49m\u001b[38;5;241;43m=\u001b[39;49m\u001b[38;5;28;43mself\u001b[39;49m\u001b[38;5;241;43m.\u001b[39;49m\u001b[43merrors\u001b[49m\u001b[43m,\u001b[49m\n\u001b[0;32m    256\u001b[0m \u001b[43m    \u001b[49m\u001b[43mcompression\u001b[49m\u001b[38;5;241;43m=\u001b[39;49m\u001b[38;5;28;43mself\u001b[39;49m\u001b[38;5;241;43m.\u001b[39;49m\u001b[43mcompression\u001b[49m\u001b[43m,\u001b[49m\n\u001b[0;32m    257\u001b[0m \u001b[43m    \u001b[49m\u001b[43mstorage_options\u001b[49m\u001b[38;5;241;43m=\u001b[39;49m\u001b[38;5;28;43mself\u001b[39;49m\u001b[38;5;241;43m.\u001b[39;49m\u001b[43mstorage_options\u001b[49m\u001b[43m,\u001b[49m\n\u001b[0;32m    258\u001b[0m \u001b[43m\u001b[49m\u001b[43m)\u001b[49m \u001b[38;5;28;01mas\u001b[39;00m handles:\n\u001b[0;32m    259\u001b[0m     \u001b[38;5;66;03m# Note: self.encoding is irrelevant here\u001b[39;00m\n\u001b[0;32m    260\u001b[0m     \u001b[38;5;28mself\u001b[39m\u001b[38;5;241m.\u001b[39mwriter \u001b[38;5;241m=\u001b[39m csvlib\u001b[38;5;241m.\u001b[39mwriter(\n\u001b[0;32m    261\u001b[0m         handles\u001b[38;5;241m.\u001b[39mhandle,\n\u001b[0;32m    262\u001b[0m         lineterminator\u001b[38;5;241m=\u001b[39m\u001b[38;5;28mself\u001b[39m\u001b[38;5;241m.\u001b[39mlineterminator,\n\u001b[1;32m   (...)\u001b[0m\n\u001b[0;32m    267\u001b[0m         quotechar\u001b[38;5;241m=\u001b[39m\u001b[38;5;28mself\u001b[39m\u001b[38;5;241m.\u001b[39mquotechar,\n\u001b[0;32m    268\u001b[0m     )\n\u001b[0;32m    270\u001b[0m     \u001b[38;5;28mself\u001b[39m\u001b[38;5;241m.\u001b[39m_save()\n",
      "File \u001b[1;32m~\\AppData\\Local\\Programs\\Python\\Python39\\lib\\site-packages\\pandas\\io\\common.py:749\u001b[0m, in \u001b[0;36mget_handle\u001b[1;34m(path_or_buf, mode, encoding, compression, memory_map, is_text, errors, storage_options)\u001b[0m\n\u001b[0;32m    747\u001b[0m \u001b[38;5;66;03m# Only for write methods\u001b[39;00m\n\u001b[0;32m    748\u001b[0m \u001b[38;5;28;01mif\u001b[39;00m \u001b[38;5;124m\"\u001b[39m\u001b[38;5;124mr\u001b[39m\u001b[38;5;124m\"\u001b[39m \u001b[38;5;129;01mnot\u001b[39;00m \u001b[38;5;129;01min\u001b[39;00m mode \u001b[38;5;129;01mand\u001b[39;00m is_path:\n\u001b[1;32m--> 749\u001b[0m     \u001b[43mcheck_parent_directory\u001b[49m\u001b[43m(\u001b[49m\u001b[38;5;28;43mstr\u001b[39;49m\u001b[43m(\u001b[49m\u001b[43mhandle\u001b[49m\u001b[43m)\u001b[49m\u001b[43m)\u001b[49m\n\u001b[0;32m    751\u001b[0m \u001b[38;5;28;01mif\u001b[39;00m compression:\n\u001b[0;32m    752\u001b[0m     \u001b[38;5;28;01mif\u001b[39;00m compression \u001b[38;5;241m!=\u001b[39m \u001b[38;5;124m\"\u001b[39m\u001b[38;5;124mzstd\u001b[39m\u001b[38;5;124m\"\u001b[39m:\n\u001b[0;32m    753\u001b[0m         \u001b[38;5;66;03m# compression libraries do not like an explicit text-mode\u001b[39;00m\n",
      "File \u001b[1;32m~\\AppData\\Local\\Programs\\Python\\Python39\\lib\\site-packages\\pandas\\io\\common.py:616\u001b[0m, in \u001b[0;36mcheck_parent_directory\u001b[1;34m(path)\u001b[0m\n\u001b[0;32m    614\u001b[0m parent \u001b[38;5;241m=\u001b[39m Path(path)\u001b[38;5;241m.\u001b[39mparent\n\u001b[0;32m    615\u001b[0m \u001b[38;5;28;01mif\u001b[39;00m \u001b[38;5;129;01mnot\u001b[39;00m parent\u001b[38;5;241m.\u001b[39mis_dir():\n\u001b[1;32m--> 616\u001b[0m     \u001b[38;5;28;01mraise\u001b[39;00m \u001b[38;5;167;01mOSError\u001b[39;00m(\u001b[38;5;124mrf\u001b[39m\u001b[38;5;124m\"\u001b[39m\u001b[38;5;124mCannot save file into a non-existent directory: \u001b[39m\u001b[38;5;124m'\u001b[39m\u001b[38;5;132;01m{\u001b[39;00mparent\u001b[38;5;132;01m}\u001b[39;00m\u001b[38;5;124m'\u001b[39m\u001b[38;5;124m\"\u001b[39m)\n",
      "\u001b[1;31mOSError\u001b[0m: Cannot save file into a non-existent directory: 'data'"
     ]
    }
   ],
   "source": [
    "result_data.to_csv(\"./data/kospi_result_data.csv\")"
   ]
  },
  {
   "cell_type": "markdown",
   "id": "50596956",
   "metadata": {
    "id": "50596956"
   },
   "source": [
    "## 군집분석"
   ]
  },
  {
   "cell_type": "markdown",
   "id": "80f8e55d",
   "metadata": {
    "id": "80f8e55d"
   },
   "source": [
    "## K_Means 를 사용하여 군집을 분류하였습니다.\n",
    "- kospi 를 target으로 설정하였습니다"
   ]
  },
  {
   "cell_type": "code",
   "execution_count": null,
   "id": "20c5d523",
   "metadata": {
    "id": "20c5d523"
   },
   "outputs": [],
   "source": [
    "X = result_data[[\"NASDAQ\", \"S&P\", \"USD/KRW\", \"USA_TREASURY\", \"Nikkei\"]]\n",
    "y = result_data[\"KOSPI\"]"
   ]
  },
  {
   "cell_type": "markdown",
   "id": "ef4c6332",
   "metadata": {
    "id": "ef4c6332"
   },
   "source": [
    "### $N$ = $\\{3,4\\}$일때 최적의 분류를 확인"
   ]
  },
  {
   "cell_type": "code",
   "execution_count": null,
   "id": "fee171ef",
   "metadata": {
    "id": "fee171ef"
   },
   "outputs": [],
   "source": [
    "ks = range(1, 10)\n",
    "\n",
    "inertias = []\n",
    "\n",
    "for k in ks:\n",
    "    model = KMeans(n_clusters=k, random_state=42)\n",
    "    model.fit(X)\n",
    "    inertias.append(model.inertia_)\n",
    "\n",
    "plt.plot(ks, inertias, \"-o\")\n",
    "plt.xlabel(\"number of clusters, k\")\n",
    "plt.ylabel(\"inertia\")\n",
    "plt.xticks(ks)\n",
    "plt.show()"
   ]
  },
  {
   "cell_type": "markdown",
   "id": "eb240e28",
   "metadata": {
    "id": "eb240e28"
   },
   "source": [
    "### $N$ = $3$로 군집분석 진행 "
   ]
  },
  {
   "cell_type": "code",
   "execution_count": null,
   "id": "29c4fc32",
   "metadata": {
    "id": "29c4fc32"
   },
   "outputs": [],
   "source": [
    "n_clusters = 3\n",
    "kmeans = KMeans(n_clusters=n_clusters, random_state=42)\n",
    "kmeans.fit(X)\n",
    "y_kmeans = kmeans.predict(X)\n",
    "y_kmeans[1:10]"
   ]
  },
  {
   "cell_type": "markdown",
   "id": "da7cae57",
   "metadata": {
    "id": "da7cae57"
   },
   "source": [
    "### TSNE를 통한 차원축소 진행"
   ]
  },
  {
   "cell_type": "code",
   "execution_count": null,
   "id": "9c846fd5",
   "metadata": {
    "id": "9c846fd5"
   },
   "outputs": [],
   "source": [
    "import time\n",
    "from sklearn.manifold import TSNE\n",
    "\n",
    "n_sne = X.shape[0]\n",
    "\n",
    "time_start = time.time()\n",
    "tsne = TSNE(\n",
    "    n_components=2, verbose=1, perplexity=32, n_iter=1000, random_state=0, angle=0.5\n",
    ")\n",
    "tsne_results = tsne.fit_transform(X)\n",
    "print(\"t-SNE done! Time elapsed: {} seconds\".format(time.time() - time_start))"
   ]
  },
  {
   "cell_type": "markdown",
   "id": "b2c28d55",
   "metadata": {
    "id": "b2c28d55"
   },
   "source": [
    "### 군집분석 결과 시각화"
   ]
  },
  {
   "cell_type": "code",
   "execution_count": null,
   "id": "e27e6aad",
   "metadata": {
    "id": "e27e6aad"
   },
   "outputs": [],
   "source": [
    "plt.scatter(tsne_results[:, 0], tsne_results[:, 1], c=y_kmeans, s=20, cmap=\"bwr\")\n",
    "sns.scatterplot(x=tsne_results[:, 0], y=tsne_results[:, 1], hue=y_kmeans, palette=\"bwr\")\n",
    "plt.show()"
   ]
  },
  {
   "cell_type": "code",
   "execution_count": null,
   "id": "69e7a2ef",
   "metadata": {
    "id": "69e7a2ef"
   },
   "outputs": [],
   "source": [
    "df1 = result_data.copy()"
   ]
  },
  {
   "cell_type": "code",
   "execution_count": null,
   "id": "079eb23e",
   "metadata": {
    "id": "079eb23e"
   },
   "outputs": [],
   "source": [
    "df1[\"cluster\"] = y_kmeans\n",
    "df1"
   ]
  },
  {
   "cell_type": "markdown",
   "id": "0771d4fc",
   "metadata": {
    "id": "0771d4fc"
   },
   "source": [
    "### 군집분석 결과에 따른 군집들을 새로운 데이터 프레임으로 생성 "
   ]
  },
  {
   "cell_type": "code",
   "execution_count": null,
   "id": "2eccf2de",
   "metadata": {
    "id": "2eccf2de"
   },
   "outputs": [],
   "source": [
    "## 군집 0 ~ 3 까지 분류된거를 변수명에 추가\n",
    "cluster_2 = df1[df1[\"cluster\"] == 2]\n",
    "cluster_1 = df1[df1[\"cluster\"] == 1]\n",
    "cluster_0 = df1[df1[\"cluster\"] == 0]"
   ]
  },
  {
   "cell_type": "code",
   "execution_count": null,
   "id": "cecd9359",
   "metadata": {
    "id": "cecd9359"
   },
   "outputs": [],
   "source": [
    "cluster_0"
   ]
  },
  {
   "cell_type": "code",
   "execution_count": null,
   "id": "07b9480e",
   "metadata": {
    "id": "07b9480e"
   },
   "outputs": [],
   "source": [
    "cluster_1"
   ]
  },
  {
   "cell_type": "code",
   "execution_count": null,
   "id": "baf45c95",
   "metadata": {
    "id": "baf45c95"
   },
   "outputs": [],
   "source": [
    "cluster_2"
   ]
  },
  {
   "cell_type": "markdown",
   "id": "a8bc5341",
   "metadata": {
    "id": "a8bc5341"
   },
   "source": [
    "### 군집별 수익률 확인\n",
    "- 군집 0 ~ 3 까지의 수익률을 한번 확인"
   ]
  },
  {
   "cell_type": "code",
   "execution_count": null,
   "id": "bfc6a751",
   "metadata": {
    "id": "bfc6a751"
   },
   "outputs": [],
   "source": [
    "cluster_total = df1.groupby(\"cluster\").mean()\n",
    "cluster_total[\"return\"] = cluster_total.T.mean()\n",
    "cluster_total[\"std\"] = cluster_total.T.std()\n",
    "cluster_total = cluster_total.T\n",
    "cluster_total"
   ]
  },
  {
   "cell_type": "markdown",
   "id": "3e30cbd1",
   "metadata": {
    "id": "3e30cbd1"
   },
   "source": [
    "- 군집1 : 위험자산 + USA_TREASURY로 이뤄진 군집  \n",
    "- 군집2 : Dolllar로 이뤄진 군집  \n",
    "- 군집3 : 위험자산으로 이뤄진 군집 "
   ]
  },
  {
   "cell_type": "markdown",
   "id": "2e790ef7",
   "metadata": {
    "id": "2e790ef7"
   },
   "source": [
    "### 군집별 수익률 대비 risk 시각화"
   ]
  },
  {
   "cell_type": "code",
   "execution_count": null,
   "id": "3a0ea721",
   "metadata": {
    "id": "3a0ea721"
   },
   "outputs": [],
   "source": [
    "plt.figure(figsize=(8, 6))\n",
    "plt.scatter(cluster_total.std(), cluster_total.mean())\n",
    "plt.xlabel(\"risk\")\n",
    "plt.ylabel(\"return\")\n",
    "plt.title(\"평균수익률 및 표준편차\")\n",
    "for label, x, y in zip(\n",
    "    cluster_total.columns, cluster_total.std(), cluster_total.mean()\n",
    "):\n",
    "    plt.annotate(\n",
    "        label,\n",
    "        xy=(x, y),\n",
    "        xytext=(30, -30),\n",
    "        textcoords=\"offset points\",\n",
    "        ha=\"right\",\n",
    "        va=\"bottom\",\n",
    "        bbox=dict(boxstyle=\"round,pad=0.5\", fc=\"yellow\", alpha=0.5),\n",
    "        arrowprops=dict(arrowstyle=\"->\", connectionstyle=\"arc3,rad=0\"),\n",
    "    )"
   ]
  },
  {
   "cell_type": "markdown",
   "id": "c59ad6ad",
   "metadata": {
    "id": "c59ad6ad"
   },
   "source": [
    "각 금융자산의 특징과 잘 맞게 군집이 잘 작성되었습니다."
   ]
  },
  {
   "cell_type": "markdown",
   "id": "133053bf",
   "metadata": {
    "id": "133053bf"
   },
   "source": [
    "## 상관관계 분석\n",
    "- Kospi와 나머지 변수들의 상관관계를 확인"
   ]
  },
  {
   "cell_type": "markdown",
   "id": "fbfc950b",
   "metadata": {
    "id": "fbfc950b"
   },
   "source": [
    "### 히트맵"
   ]
  },
  {
   "cell_type": "code",
   "execution_count": null,
   "id": "a322c489",
   "metadata": {
    "id": "a322c489"
   },
   "outputs": [],
   "source": [
    "df2 = df1.corr()"
   ]
  },
  {
   "cell_type": "code",
   "execution_count": null,
   "id": "ef9056e8",
   "metadata": {
    "id": "ef9056e8"
   },
   "outputs": [],
   "source": [
    "plt.figure(figsize=(10, 10))\n",
    "sns.heatmap(result_data.corr(), annot=True, fmt=\".2f\", linewidths=0.5, cmap=\"Blues\")"
   ]
  },
  {
   "cell_type": "markdown",
   "id": "3c829e1a",
   "metadata": {
    "id": "3c829e1a"
   },
   "source": [
    "### 상관관계 계수 확인하기\n",
    "- 확실히 Nasdaq과 S&P가 서로 미국시장이라서 상관관계가 높은것을 확인할 수 있고, kospi와의 상관관계는 1.Nikkei > 2. Nasdaq > 3. S&P > 4.usa_treasury > 5.Dollar 순의 상관관계를 보임"
   ]
  },
  {
   "cell_type": "code",
   "execution_count": null,
   "id": "b42ff38e",
   "metadata": {
    "id": "b42ff38e"
   },
   "outputs": [],
   "source": [
    "idx, vals = [], []\n",
    "for ix, i in enumerate(result_data.columns.values):\n",
    "    for j in result_data.columns.values[ix + 1 :]:\n",
    "        idx.append((i, j))\n",
    "        vals.append(result_data.corr()[i][j])\n",
    "\n",
    "ser = pd.Series(data=vals, index=idx)\n",
    "ser_ord = ser.sort_values(ascending=False)\n",
    "ser_ord"
   ]
  },
  {
   "cell_type": "markdown",
   "id": "c47c9b01",
   "metadata": {
    "id": "c47c9b01"
   },
   "source": [
    "### 산점도 그래프"
   ]
  },
  {
   "cell_type": "code",
   "execution_count": null,
   "id": "e7063dae",
   "metadata": {
    "id": "e7063dae"
   },
   "outputs": [],
   "source": [
    "sns.set(font_scale=1.1)  ## 폰트사이즈 조절\n",
    "sns.set_style(\"ticks\")  ## 축 눈금 표시\n",
    "data = result_data[[\"KOSPI\", \"NASDAQ\", \"S&P\", \"USD/KRW\", \"USA_TREASURY\", \"Nikkei\"]]\n",
    "sns.pairplot(data, diag_kind=None)\n",
    "plt.show()"
   ]
  },
  {
   "cell_type": "markdown",
   "id": "20153c49",
   "metadata": {
    "id": "20153c49"
   },
   "source": [
    "## 세계 각국 지수의 수익률 대비 risk 시각화"
   ]
  },
  {
   "cell_type": "markdown",
   "id": "3e8cd38d",
   "metadata": {
    "id": "3e8cd38d"
   },
   "source": [
    "### 평균수익률 및 표준편차"
   ]
  },
  {
   "cell_type": "code",
   "execution_count": null,
   "id": "0f4065df",
   "metadata": {
    "id": "0f4065df"
   },
   "outputs": [],
   "source": [
    "plt.figure(figsize=(8, 6))\n",
    "plt.yticks(\n",
    "    fontname=\"DejaVu Sans\"\n",
    ")  # 한글 폰트가 지수에 음수를 표시하지 못하므로 ytick의 폰트를 바꾸어 줍니다.\n",
    "plt.scatter(result_data.std(), result_data.mean())\n",
    "plt.xlabel(\"risk\")\n",
    "plt.ylabel(\"return\")\n",
    "plt.title(\"평균수익률 및 표준편차\")\n",
    "for label, x, y in zip(result_data.columns, result_data.std(), result_data.mean()):\n",
    "    plt.annotate(\n",
    "        label,\n",
    "        xy=(x, y),\n",
    "        xytext=(30, -30),\n",
    "        textcoords=\"offset points\",\n",
    "        ha=\"right\",\n",
    "        va=\"bottom\",\n",
    "        bbox=dict(boxstyle=\"round,pad=0.5\", fc=\"yellow\", alpha=0.5),\n",
    "        arrowprops=dict(arrowstyle=\"->\", connectionstyle=\"arc3,rad=0\"),\n",
    "    )"
   ]
  },
  {
   "cell_type": "markdown",
   "id": "df868380",
   "metadata": {
    "id": "df868380"
   },
   "source": [
    "### 누적수익률 및 표준편차 "
   ]
  },
  {
   "cell_type": "code",
   "execution_count": null,
   "id": "5542b5c6",
   "metadata": {
    "id": "5542b5c6"
   },
   "outputs": [],
   "source": [
    "plt.figure(figsize=(8, 6))\n",
    "plt.yticks(\n",
    "    fontname=\"DejaVu Sans\"\n",
    ")  # 한글 폰트가 지수에 음수를 표시하지 못하므로 ytick의 폰트를 바꾸어 줍니다.\n",
    "plt.scatter(result_data.std(), result_data.sum())\n",
    "plt.xlabel(\"risk\")\n",
    "plt.ylabel(\"return\")\n",
    "plt.title(\"누적수익률 및 표준편차\")\n",
    "for label, x, y in zip(result_data.columns, result_data.std(), result_data.sum()):\n",
    "    plt.annotate(\n",
    "        label,\n",
    "        xy=(x, y),\n",
    "        xytext=(30, -30),\n",
    "        textcoords=\"offset points\",\n",
    "        ha=\"right\",\n",
    "        va=\"bottom\",\n",
    "        bbox=dict(boxstyle=\"round,pad=0.5\", fc=\"yellow\", alpha=0.5),\n",
    "        arrowprops=dict(arrowstyle=\"->\", connectionstyle=\"arc3,rad=0\"),\n",
    "    )"
   ]
  },
  {
   "cell_type": "code",
   "execution_count": null,
   "id": "2da8c209",
   "metadata": {},
   "outputs": [],
   "source": []
  }
 ],
 "metadata": {
  "colab": {
   "collapsed_sections": [],
   "provenance": []
  },
  "kernelspec": {
   "display_name": "Python 3 (ipykernel)",
   "language": "python",
   "name": "python3"
  },
  "language_info": {
   "codemirror_mode": {
    "name": "ipython",
    "version": 3
   },
   "file_extension": ".py",
   "mimetype": "text/x-python",
   "name": "python",
   "nbconvert_exporter": "python",
   "pygments_lexer": "ipython3",
   "version": "3.9.13"
  },
  "vscode": {
   "interpreter": {
    "hash": "2b338e1ebdc85b878dc81ea058f20b659780bac2cb1a796931e4defa97a9d4b3"
   }
  }
 },
 "nbformat": 4,
 "nbformat_minor": 5
}
