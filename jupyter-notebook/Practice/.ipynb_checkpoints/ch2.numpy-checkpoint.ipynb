{
 "cells": [
  {
   "cell_type": "code",
   "execution_count": 2,
   "id": "2bd84978-cfe3-4842-ab21-418f660883d5",
   "metadata": {},
   "outputs": [
    {
     "data": {
      "text/plain": [
       "array([0, 1, 2, 3, 4, 5, 6, 7, 8, 9])"
      ]
     },
     "execution_count": 2,
     "metadata": {},
     "output_type": "execute_result"
    }
   ],
   "source": [
    "import numpy as np\n",
    "\n",
    "x=np.arange(10)\n",
    "x"
   ]
  },
  {
   "cell_type": "code",
   "execution_count": 5,
   "id": "6f6f4aca-2d4f-4e13-aecb-f9aa20ee55e0",
   "metadata": {},
   "outputs": [],
   "source": [
    "np.random.seed(0)\n",
    "x1 = np.random.randint(10, size=6)"
   ]
  },
  {
   "cell_type": "code",
   "execution_count": 6,
   "id": "30781249-0cce-43a4-af54-a93d9ed96e87",
   "metadata": {},
   "outputs": [],
   "source": [
    "x2=np.random.randint(10,size=(3,4))\n",
    "x3=np.random.randint(10,size=(3,4,5))"
   ]
  },
  {
   "cell_type": "code",
   "execution_count": 7,
   "id": "89ccbeca-72ef-4613-baca-e6d295a247e7",
   "metadata": {},
   "outputs": [
    {
     "data": {
      "text/plain": [
       "array([[3, 5, 2, 4],\n",
       "       [7, 6, 8, 8],\n",
       "       [1, 6, 7, 7]])"
      ]
     },
     "execution_count": 7,
     "metadata": {},
     "output_type": "execute_result"
    }
   ],
   "source": [
    "x2"
   ]
  },
  {
   "cell_type": "code",
   "execution_count": 8,
   "id": "4ab9058f-ed50-4981-8b63-160878921d95",
   "metadata": {},
   "outputs": [
    {
     "data": {
      "text/plain": [
       "array([[12,  5,  2,  4],\n",
       "       [ 7,  6,  8,  8],\n",
       "       [ 1,  6,  7,  7]])"
      ]
     },
     "execution_count": 8,
     "metadata": {},
     "output_type": "execute_result"
    }
   ],
   "source": [
    "x2[0,0]=12\n",
    "x2"
   ]
  },
  {
   "cell_type": "code",
   "execution_count": 9,
   "id": "670b3648-e575-4339-b2f3-3fa6e2fe1ae8",
   "metadata": {},
   "outputs": [
    {
     "data": {
      "text/plain": [
       "array([[12,  5,  2,  4],\n",
       "       [ 7,  6,  8,  8],\n",
       "       [ 1,  6,  7,  7]])"
      ]
     },
     "execution_count": 9,
     "metadata": {},
     "output_type": "execute_result"
    }
   ],
   "source": [
    "x2"
   ]
  },
  {
   "cell_type": "code",
   "execution_count": 10,
   "id": "d46e2b9b-02a4-438d-afad-e189230e41c6",
   "metadata": {},
   "outputs": [
    {
     "data": {
      "text/plain": [
       "array([[12,  5,  2],\n",
       "       [ 7,  6,  8]])"
      ]
     },
     "execution_count": 10,
     "metadata": {},
     "output_type": "execute_result"
    }
   ],
   "source": [
    "x2[:2,:3]"
   ]
  },
  {
   "cell_type": "code",
   "execution_count": 11,
   "id": "58c9a996-3f2b-453f-95da-c78aec06940d",
   "metadata": {},
   "outputs": [
    {
     "data": {
      "text/plain": [
       "array([[12,  2],\n",
       "       [ 7,  8],\n",
       "       [ 1,  7]])"
      ]
     },
     "execution_count": 11,
     "metadata": {},
     "output_type": "execute_result"
    }
   ],
   "source": [
    "x2[:3,::2]"
   ]
  },
  {
   "cell_type": "code",
   "execution_count": 12,
   "id": "3724d7e1-fbe2-433a-8b1f-b239599e6b66",
   "metadata": {},
   "outputs": [
    {
     "data": {
      "text/plain": [
       "array([[ 7,  7,  6,  1],\n",
       "       [ 8,  8,  6,  7],\n",
       "       [ 4,  2,  5, 12]])"
      ]
     },
     "execution_count": 12,
     "metadata": {},
     "output_type": "execute_result"
    }
   ],
   "source": [
    "x2[::-1,::-1]"
   ]
  },
  {
   "cell_type": "code",
   "execution_count": 14,
   "id": "d228cdd3-cdde-4e0a-af3e-e279ab337bb2",
   "metadata": {},
   "outputs": [
    {
     "name": "stdout",
     "output_type": "stream",
     "text": [
      "[12  7  1]\n"
     ]
    }
   ],
   "source": [
    "print(x2[:,0])"
   ]
  },
  {
   "cell_type": "code",
   "execution_count": 15,
   "id": "4d1f0c3b-b2ea-4879-86db-88c91ba8b4a8",
   "metadata": {},
   "outputs": [
    {
     "name": "stdout",
     "output_type": "stream",
     "text": [
      "[12  5  2  4]\n"
     ]
    }
   ],
   "source": [
    "print(x2[0,:])"
   ]
  },
  {
   "cell_type": "code",
   "execution_count": 17,
   "id": "5448943f-eb85-4277-a458-9b5323e006d3",
   "metadata": {},
   "outputs": [
    {
     "name": "stdout",
     "output_type": "stream",
     "text": [
      "[12  5  2  4]\n"
     ]
    }
   ],
   "source": [
    "print(x2[0])"
   ]
  },
  {
   "cell_type": "code",
   "execution_count": 18,
   "id": "0a9245fe-1dd9-45e2-8ae3-e792edfafebd",
   "metadata": {},
   "outputs": [
    {
     "name": "stdout",
     "output_type": "stream",
     "text": [
      "[[12  5  2  4]\n",
      " [ 7  6  8  8]\n",
      " [ 1  6  7  7]]\n"
     ]
    }
   ],
   "source": [
    "print(x2)"
   ]
  },
  {
   "cell_type": "code",
   "execution_count": 21,
   "id": "701bfedc-da7a-4eb1-942d-4f208cbc9da9",
   "metadata": {},
   "outputs": [],
   "source": [
    "x2_sub=x2[:2,:2]"
   ]
  },
  {
   "cell_type": "code",
   "execution_count": 22,
   "id": "39d1fc2b-ccb1-4376-b538-6d9afe1110d8",
   "metadata": {},
   "outputs": [
    {
     "name": "stdout",
     "output_type": "stream",
     "text": [
      "[[12  5]\n",
      " [ 7  6]]\n"
     ]
    }
   ],
   "source": [
    "print(x2_sub)"
   ]
  },
  {
   "cell_type": "code",
   "execution_count": 23,
   "id": "4bf1750e-4f97-4cab-8b43-9af6332a799c",
   "metadata": {},
   "outputs": [
    {
     "name": "stdout",
     "output_type": "stream",
     "text": [
      "[[99  5]\n",
      " [ 7  6]]\n"
     ]
    }
   ],
   "source": [
    "x2_sub[0,0]=99\n",
    "print(x2_sub)"
   ]
  },
  {
   "cell_type": "code",
   "execution_count": 25,
   "id": "2b1a71df-ce66-49f9-9cac-259c04643ef4",
   "metadata": {},
   "outputs": [
    {
     "name": "stdout",
     "output_type": "stream",
     "text": [
      "[[99  5]\n",
      " [ 7  6]]\n"
     ]
    }
   ],
   "source": [
    "x2_sub_copy=x2[:2,:2].copy()\n",
    "print(x2_sub_copy)"
   ]
  },
  {
   "cell_type": "code",
   "execution_count": 27,
   "id": "94bd7544-9bcc-4499-98f6-6e08e297db2b",
   "metadata": {},
   "outputs": [
    {
     "name": "stdout",
     "output_type": "stream",
     "text": [
      "[[42  5]\n",
      " [ 7  6]]\n"
     ]
    }
   ],
   "source": [
    "x2_sub_copy[0,0]=42\n",
    "print(x2_sub_copy)"
   ]
  },
  {
   "cell_type": "code",
   "execution_count": 28,
   "id": "8beb507f-7bb7-4945-8cf8-c0812a37420a",
   "metadata": {},
   "outputs": [
    {
     "name": "stdout",
     "output_type": "stream",
     "text": [
      "[[99  5  2  4]\n",
      " [ 7  6  8  8]\n",
      " [ 1  6  7  7]]\n"
     ]
    }
   ],
   "source": [
    "print(x2)"
   ]
  },
  {
   "cell_type": "code",
   "execution_count": 30,
   "id": "08780dca-2757-44d6-9e47-ef784546dd6f",
   "metadata": {},
   "outputs": [
    {
     "name": "stdout",
     "output_type": "stream",
     "text": [
      "[[1 2 3]\n",
      " [4 5 6]\n",
      " [7 8 9]]\n"
     ]
    }
   ],
   "source": [
    "grid=np.arange(1,10).reshape(3,3)\n",
    "print(grid)"
   ]
  },
  {
   "cell_type": "code",
   "execution_count": 31,
   "id": "f394e53b-428a-4f7d-a108-d36263eab0e8",
   "metadata": {},
   "outputs": [],
   "source": [
    "x= np.array([1,2,3])"
   ]
  },
  {
   "cell_type": "code",
   "execution_count": 32,
   "id": "370e1bd1-99b8-4c50-b5f8-6f263a96e3d8",
   "metadata": {},
   "outputs": [
    {
     "data": {
      "text/plain": [
       "array([[1, 2, 3]])"
      ]
     },
     "execution_count": 32,
     "metadata": {},
     "output_type": "execute_result"
    }
   ],
   "source": [
    "x.reshape((1,3))"
   ]
  },
  {
   "cell_type": "code",
   "execution_count": 33,
   "id": "26821653-9e23-4656-b3c0-2322b66e2552",
   "metadata": {},
   "outputs": [
    {
     "data": {
      "text/plain": [
       "array([[1, 2, 3]])"
      ]
     },
     "execution_count": 33,
     "metadata": {},
     "output_type": "execute_result"
    }
   ],
   "source": [
    "x[np.newaxis,:]"
   ]
  },
  {
   "cell_type": "code",
   "execution_count": 35,
   "id": "a30ebc07-cb40-4998-9c33-2462654dd4ed",
   "metadata": {},
   "outputs": [
    {
     "data": {
      "text/plain": [
       "array([[1],\n",
       "       [2],\n",
       "       [3]])"
      ]
     },
     "execution_count": 35,
     "metadata": {},
     "output_type": "execute_result"
    }
   ],
   "source": [
    "x.reshape((3,1))"
   ]
  },
  {
   "cell_type": "code",
   "execution_count": 36,
   "id": "203c946e-565d-4008-9f22-9e57ad4a1c48",
   "metadata": {},
   "outputs": [
    {
     "data": {
      "text/plain": [
       "array([[1],\n",
       "       [2],\n",
       "       [3]])"
      ]
     },
     "execution_count": 36,
     "metadata": {},
     "output_type": "execute_result"
    }
   ],
   "source": [
    "x[:,np.newaxis]"
   ]
  },
  {
   "cell_type": "code",
   "execution_count": 37,
   "id": "4017e9b2-ed4e-4a7f-a2b1-ef975802dd1a",
   "metadata": {},
   "outputs": [
    {
     "data": {
      "text/plain": [
       "array([1, 2, 3, 3, 2, 1])"
      ]
     },
     "execution_count": 37,
     "metadata": {},
     "output_type": "execute_result"
    }
   ],
   "source": [
    "x=np.array([1,2,3])\n",
    "y=np.array([3,2,1])\n",
    "np.concatenate([x,y])"
   ]
  },
  {
   "cell_type": "code",
   "execution_count": 38,
   "id": "47a546e4-f05e-476c-8cae-a58477237a7e",
   "metadata": {},
   "outputs": [
    {
     "name": "stdout",
     "output_type": "stream",
     "text": [
      "[ 1  2  3  3  2  1 99 99 99]\n"
     ]
    }
   ],
   "source": [
    "z=[99,99,99]\n",
    "print(np.concatenate([x,y,z]))"
   ]
  },
  {
   "cell_type": "code",
   "execution_count": 44,
   "id": "e9573839-5eb8-4e78-9196-d31dfa12d318",
   "metadata": {},
   "outputs": [],
   "source": [
    "grid=np.array([[1,2,3],[4,5,6]])"
   ]
  },
  {
   "cell_type": "code",
   "execution_count": 45,
   "id": "75ca044b-306b-47b8-b321-27974d75381e",
   "metadata": {},
   "outputs": [
    {
     "name": "stdout",
     "output_type": "stream",
     "text": [
      "[[1 2 3]\n",
      " [4 5 6]]\n"
     ]
    }
   ],
   "source": [
    "print(grid)"
   ]
  },
  {
   "cell_type": "code",
   "execution_count": 46,
   "id": "183ca781-ecb0-4dda-b5e6-7036b7d8418f",
   "metadata": {},
   "outputs": [
    {
     "data": {
      "text/plain": [
       "array([[1, 2, 3],\n",
       "       [4, 5, 6],\n",
       "       [1, 2, 3],\n",
       "       [4, 5, 6]])"
      ]
     },
     "execution_count": 46,
     "metadata": {},
     "output_type": "execute_result"
    }
   ],
   "source": [
    "np.concatenate([grid,grid])"
   ]
  },
  {
   "cell_type": "code",
   "execution_count": 47,
   "id": "8bef881b-437f-4efa-92c4-5480357eff06",
   "metadata": {},
   "outputs": [
    {
     "data": {
      "text/plain": [
       "array([[1, 2, 3, 1, 2, 3],\n",
       "       [4, 5, 6, 4, 5, 6]])"
      ]
     },
     "execution_count": 47,
     "metadata": {},
     "output_type": "execute_result"
    }
   ],
   "source": [
    "np.concatenate([grid,grid],axis=1)"
   ]
  },
  {
   "cell_type": "code",
   "execution_count": 48,
   "id": "ccef1943-51a9-4b8e-a44f-487480ee6198",
   "metadata": {},
   "outputs": [],
   "source": [
    "x=np.array([1,2,3])\n",
    "grid=np.array([[9,8,7],[6,5,4]])"
   ]
  },
  {
   "cell_type": "code",
   "execution_count": 49,
   "id": "7287d784-93e9-473f-84bd-9105a3f6095c",
   "metadata": {},
   "outputs": [
    {
     "data": {
      "text/plain": [
       "array([[1, 2, 3],\n",
       "       [9, 8, 7],\n",
       "       [6, 5, 4]])"
      ]
     },
     "execution_count": 49,
     "metadata": {},
     "output_type": "execute_result"
    }
   ],
   "source": [
    "np.vstack([x,grid])"
   ]
  },
  {
   "cell_type": "code",
   "execution_count": 52,
   "id": "b66d4d6a-6c1a-4324-81f3-f2424f5c9b68",
   "metadata": {},
   "outputs": [],
   "source": [
    "y=np.array([[99],[99]])"
   ]
  },
  {
   "cell_type": "code",
   "execution_count": 53,
   "id": "9c25b592-56a7-45ab-8da3-b3b09689f9b8",
   "metadata": {},
   "outputs": [
    {
     "data": {
      "text/plain": [
       "array([[ 9,  8,  7, 99],\n",
       "       [ 6,  5,  4, 99]])"
      ]
     },
     "execution_count": 53,
     "metadata": {},
     "output_type": "execute_result"
    }
   ],
   "source": [
    "np.hstack([grid,y])"
   ]
  },
  {
   "cell_type": "code",
   "execution_count": 54,
   "id": "8c45658f-5c4f-4ac7-9201-c6d267ccaa78",
   "metadata": {},
   "outputs": [
    {
     "name": "stdout",
     "output_type": "stream",
     "text": [
      "[1 2 3] [99 99] [3 2 1]\n"
     ]
    }
   ],
   "source": [
    "x=[1,2,3,99,99,3,2,1]\n",
    "x1,x2,x3=np.split(x,[3,5])\n",
    "print(x1,x2,x3)"
   ]
  },
  {
   "cell_type": "code",
   "execution_count": 55,
   "id": "a75c448a-f89f-4d01-a911-83ef50f152a4",
   "metadata": {},
   "outputs": [
    {
     "data": {
      "text/plain": [
       "array([[ 0,  1,  2,  3],\n",
       "       [ 4,  5,  6,  7],\n",
       "       [ 8,  9, 10, 11],\n",
       "       [12, 13, 14, 15]])"
      ]
     },
     "execution_count": 55,
     "metadata": {},
     "output_type": "execute_result"
    }
   ],
   "source": [
    "grid=np.arange(16).reshape((4,4))\n",
    "grid"
   ]
  },
  {
   "cell_type": "code",
   "execution_count": 56,
   "id": "49189c31-1ee0-4165-90d4-41c66aa3b6fe",
   "metadata": {},
   "outputs": [
    {
     "name": "stdout",
     "output_type": "stream",
     "text": [
      "[[0 1 2 3]\n",
      " [4 5 6 7]]\n",
      "[[ 8  9 10 11]\n",
      " [12 13 14 15]]\n"
     ]
    }
   ],
   "source": [
    "upper, lower=np.vsplit(grid,[2])\n",
    "print(upper)\n",
    "print(lower)"
   ]
  },
  {
   "cell_type": "code",
   "execution_count": 57,
   "id": "8e5055c2-35b5-4500-8c17-302ce5e50c95",
   "metadata": {},
   "outputs": [
    {
     "name": "stdout",
     "output_type": "stream",
     "text": [
      "[[ 0  1]\n",
      " [ 4  5]\n",
      " [ 8  9]\n",
      " [12 13]]\n",
      "[[ 2  3]\n",
      " [ 6  7]\n",
      " [10 11]\n",
      " [14 15]]\n"
     ]
    }
   ],
   "source": [
    "left,right = np.hsplit(grid,[2])\n",
    "print(left)\n",
    "print(right)"
   ]
  },
  {
   "cell_type": "code",
   "execution_count": 58,
   "id": "fe6361e1-b593-4ecc-8a6a-d3653ed81f17",
   "metadata": {},
   "outputs": [
    {
     "data": {
      "text/plain": [
       "array([  3,   4,   5, 101, 101,   5,   4,   3])"
      ]
     },
     "execution_count": 58,
     "metadata": {},
     "output_type": "execute_result"
    }
   ],
   "source": [
    "np.add(x,2)"
   ]
  },
  {
   "cell_type": "code",
   "execution_count": 59,
   "id": "d0674fbd-1b44-4c16-805f-06d14a87b343",
   "metadata": {},
   "outputs": [],
   "source": [
    "x=np.arange(4)"
   ]
  },
  {
   "cell_type": "code",
   "execution_count": 60,
   "id": "61f730f9-1ce3-4182-a4c1-eb9316b5401d",
   "metadata": {},
   "outputs": [
    {
     "data": {
      "text/plain": [
       "array([0, 1, 2, 3])"
      ]
     },
     "execution_count": 60,
     "metadata": {},
     "output_type": "execute_result"
    }
   ],
   "source": [
    "x"
   ]
  },
  {
   "cell_type": "code",
   "execution_count": 61,
   "id": "66eb0fd1-c4dc-4165-9f1d-b49bcc261392",
   "metadata": {},
   "outputs": [
    {
     "data": {
      "text/plain": [
       "array([2, 3, 4, 5])"
      ]
     },
     "execution_count": 61,
     "metadata": {},
     "output_type": "execute_result"
    }
   ],
   "source": [
    "np.add(x,2)"
   ]
  },
  {
   "cell_type": "code",
   "execution_count": 63,
   "id": "3d4c20b3-00ac-449d-b05f-42347daa16fc",
   "metadata": {},
   "outputs": [
    {
     "data": {
      "text/plain": [
       "array([2, 1, 0, 1, 2])"
      ]
     },
     "execution_count": 63,
     "metadata": {},
     "output_type": "execute_result"
    }
   ],
   "source": [
    "x=np.array([-2,-1,0,1,2])\n",
    "abs(x)"
   ]
  },
  {
   "cell_type": "code",
   "execution_count": 64,
   "id": "f41716a0-e9e9-46af-ab8f-00a3296eccdb",
   "metadata": {},
   "outputs": [
    {
     "data": {
      "text/plain": [
       "array([2, 1, 0, 1, 2])"
      ]
     },
     "execution_count": 64,
     "metadata": {},
     "output_type": "execute_result"
    }
   ],
   "source": [
    "np.absolute(x)"
   ]
  },
  {
   "cell_type": "code",
   "execution_count": 65,
   "id": "b2112f15-0c74-4a5c-a44a-fed64eab729a",
   "metadata": {},
   "outputs": [
    {
     "data": {
      "text/plain": [
       "array([2, 1, 0, 1, 2])"
      ]
     },
     "execution_count": 65,
     "metadata": {},
     "output_type": "execute_result"
    }
   ],
   "source": [
    "np.abs(x)"
   ]
  },
  {
   "cell_type": "code",
   "execution_count": 69,
   "id": "96beff4e-3886-4b41-8da7-f8e74e403c99",
   "metadata": {},
   "outputs": [
    {
     "data": {
      "text/plain": [
       "array([1, 2, 3, 4, 5])"
      ]
     },
     "execution_count": 69,
     "metadata": {},
     "output_type": "execute_result"
    }
   ],
   "source": [
    "x=np.arange(1,6)\n",
    "x"
   ]
  },
  {
   "cell_type": "code",
   "execution_count": 70,
   "id": "c754e60e-e40b-45b7-846a-dbedf608de9d",
   "metadata": {},
   "outputs": [
    {
     "data": {
      "text/plain": [
       "array([2, 3, 4, 5, 6])"
      ]
     },
     "execution_count": 70,
     "metadata": {},
     "output_type": "execute_result"
    }
   ],
   "source": [
    "np.add(x,1)"
   ]
  },
  {
   "cell_type": "code",
   "execution_count": 71,
   "id": "92e10bad-1e60-4979-82ea-621e26a6613a",
   "metadata": {},
   "outputs": [
    {
     "data": {
      "text/plain": [
       "15"
      ]
     },
     "execution_count": 71,
     "metadata": {},
     "output_type": "execute_result"
    }
   ],
   "source": [
    "np.add.reduce(x)"
   ]
  },
  {
   "cell_type": "code",
   "execution_count": 72,
   "id": "6d49edfe-2939-4d5b-a423-8904dd3619ee",
   "metadata": {},
   "outputs": [
    {
     "data": {
      "text/plain": [
       "120"
      ]
     },
     "execution_count": 72,
     "metadata": {},
     "output_type": "execute_result"
    }
   ],
   "source": [
    "np.multiply.reduce(x)"
   ]
  },
  {
   "cell_type": "code",
   "execution_count": 74,
   "id": "209393ff-146e-45df-983b-21b5dea56696",
   "metadata": {},
   "outputs": [
    {
     "data": {
      "text/plain": [
       "array([ 1,  3,  6, 10, 15])"
      ]
     },
     "execution_count": 74,
     "metadata": {},
     "output_type": "execute_result"
    }
   ],
   "source": [
    "np.add.accumulate(x)"
   ]
  },
  {
   "cell_type": "code",
   "execution_count": 75,
   "id": "287adb66-1774-428a-a769-0cd798c52508",
   "metadata": {},
   "outputs": [
    {
     "data": {
      "text/plain": [
       "array([  1,   2,   6,  24, 120])"
      ]
     },
     "execution_count": 75,
     "metadata": {},
     "output_type": "execute_result"
    }
   ],
   "source": [
    "np.multiply.accumulate(x)"
   ]
  },
  {
   "cell_type": "code",
   "execution_count": 76,
   "id": "ac0538cd-02c5-499f-9ae7-ba0355f451d6",
   "metadata": {},
   "outputs": [
    {
     "data": {
      "text/plain": [
       "array([[ 1,  2,  3,  4,  5],\n",
       "       [ 2,  4,  6,  8, 10],\n",
       "       [ 3,  6,  9, 12, 15],\n",
       "       [ 4,  8, 12, 16, 20],\n",
       "       [ 5, 10, 15, 20, 25]])"
      ]
     },
     "execution_count": 76,
     "metadata": {},
     "output_type": "execute_result"
    }
   ],
   "source": [
    "x=np.arange(1,6)\n",
    "np.multiply.outer(x,x)"
   ]
  },
  {
   "cell_type": "code",
   "execution_count": 77,
   "id": "cb5b3635-cf7c-438d-8e99-a03d20035cf0",
   "metadata": {},
   "outputs": [
    {
     "data": {
      "text/plain": [
       "52.12818058833704"
      ]
     },
     "execution_count": 77,
     "metadata": {},
     "output_type": "execute_result"
    }
   ],
   "source": [
    "import numpy as np\n",
    "L= np.random.random(100)\n",
    "sum(L)"
   ]
  },
  {
   "cell_type": "code",
   "execution_count": 78,
   "id": "b717dbc3-c537-467e-9db3-c69baedc1308",
   "metadata": {},
   "outputs": [
    {
     "data": {
      "text/plain": [
       "52.12818058833702"
      ]
     },
     "execution_count": 78,
     "metadata": {},
     "output_type": "execute_result"
    }
   ],
   "source": [
    "np.sum(L)"
   ]
  },
  {
   "cell_type": "code",
   "execution_count": 80,
   "id": "e27a3dbb-022c-414d-9b75-fde7db8d8954",
   "metadata": {},
   "outputs": [],
   "source": [
    "big_array=np.random.rand(1000000)"
   ]
  },
  {
   "cell_type": "code",
   "execution_count": 82,
   "id": "d7c4cc45-aafd-42b7-97a5-a7af29a291f2",
   "metadata": {},
   "outputs": [
    {
     "data": {
      "text/plain": [
       "(1.4057692298008462e-06, 0.9999994392723005)"
      ]
     },
     "execution_count": 82,
     "metadata": {},
     "output_type": "execute_result"
    }
   ],
   "source": [
    "min(big_array),max(big_array)"
   ]
  },
  {
   "cell_type": "raw",
   "id": "d817f25a-9e81-4a1d-998f-38ae8d78c01d",
   "metadata": {},
   "source": [
    "print(big_array.min(),big_array.max(),big_array.sum())"
   ]
  },
  {
   "cell_type": "code",
   "execution_count": 84,
   "id": "7524f9d6-ad63-4bff-bc6f-52b15f16170f",
   "metadata": {},
   "outputs": [],
   "source": [
    "M=np.random.random((3,4))"
   ]
  },
  {
   "cell_type": "code",
   "execution_count": 85,
   "id": "fdde227f-5b52-4ab0-844f-1d8747991dae",
   "metadata": {},
   "outputs": [
    {
     "name": "stdout",
     "output_type": "stream",
     "text": [
      "[[0.50063048 0.07383653 0.49018646 0.72521956]\n",
      " [0.84926562 0.10226215 0.99559424 0.59250301]\n",
      " [0.53509    0.88518089 0.25518136 0.13130483]]\n"
     ]
    }
   ],
   "source": [
    "print(M)"
   ]
  },
  {
   "cell_type": "code",
   "execution_count": 86,
   "id": "99a65009-765b-4b68-adc4-bb98b17643d9",
   "metadata": {},
   "outputs": [
    {
     "data": {
      "text/plain": [
       "6.1362551272647154"
      ]
     },
     "execution_count": 86,
     "metadata": {},
     "output_type": "execute_result"
    }
   ],
   "source": [
    "M.sum()"
   ]
  },
  {
   "cell_type": "code",
   "execution_count": 87,
   "id": "bfd8bb5f-124e-4ee6-b2ce-c7a55eb15a5f",
   "metadata": {},
   "outputs": [
    {
     "data": {
      "text/plain": [
       "array([0.50063048, 0.07383653, 0.25518136, 0.13130483])"
      ]
     },
     "execution_count": 87,
     "metadata": {},
     "output_type": "execute_result"
    }
   ],
   "source": [
    "M.min(axis=0)"
   ]
  },
  {
   "cell_type": "code",
   "execution_count": 88,
   "id": "04d38654-fddc-4f1f-92f8-b0efdaaa05ca",
   "metadata": {},
   "outputs": [
    {
     "data": {
      "text/plain": [
       "array([0.72521956, 0.99559424, 0.88518089])"
      ]
     },
     "execution_count": 88,
     "metadata": {},
     "output_type": "execute_result"
    }
   ],
   "source": [
    "M.max(axis=1)"
   ]
  },
  {
   "cell_type": "code",
   "execution_count": 89,
   "id": "8822fb65-1239-4ca6-a276-c953288141a8",
   "metadata": {},
   "outputs": [
    {
     "data": {
      "text/plain": [
       "array([5, 6, 7])"
      ]
     },
     "execution_count": 89,
     "metadata": {},
     "output_type": "execute_result"
    }
   ],
   "source": [
    "import numpy as np\n",
    "a=np.array([0,1,2])\n",
    "b=np.array([5,5,5])\n",
    "a+b"
   ]
  },
  {
   "cell_type": "code",
   "execution_count": 90,
   "id": "365014a9-c326-410b-ad44-7abf31139f9c",
   "metadata": {},
   "outputs": [
    {
     "data": {
      "text/plain": [
       "array([5, 6, 7])"
      ]
     },
     "execution_count": 90,
     "metadata": {},
     "output_type": "execute_result"
    }
   ],
   "source": [
    "a+5"
   ]
  },
  {
   "cell_type": "code",
   "execution_count": 91,
   "id": "6d843fe3-13cc-4a5c-9a54-88cb0cf9c0c0",
   "metadata": {},
   "outputs": [
    {
     "data": {
      "text/plain": [
       "array([[1., 1., 1.],\n",
       "       [1., 1., 1.],\n",
       "       [1., 1., 1.]])"
      ]
     },
     "execution_count": 91,
     "metadata": {},
     "output_type": "execute_result"
    }
   ],
   "source": [
    "M=np.ones((3,3))\n",
    "M"
   ]
  },
  {
   "cell_type": "code",
   "execution_count": 92,
   "id": "e633e16a-4668-4cd7-9d31-c79e9cfa458c",
   "metadata": {},
   "outputs": [
    {
     "data": {
      "text/plain": [
       "array([[1., 2., 3.],\n",
       "       [1., 2., 3.],\n",
       "       [1., 2., 3.]])"
      ]
     },
     "execution_count": 92,
     "metadata": {},
     "output_type": "execute_result"
    }
   ],
   "source": [
    "M+a"
   ]
  },
  {
   "cell_type": "code",
   "execution_count": 95,
   "id": "cdb66425-513c-460e-9fea-fdc7888441a4",
   "metadata": {},
   "outputs": [
    {
     "name": "stdout",
     "output_type": "stream",
     "text": [
      "[0 1 2]\n",
      "[[0]\n",
      " [1]\n",
      " [2]]\n"
     ]
    }
   ],
   "source": [
    "a=np.arange(3)\n",
    "b=np.arange(3)[:,np.newaxis]\n",
    "print(a)\n",
    "print(b)"
   ]
  },
  {
   "cell_type": "code",
   "execution_count": 96,
   "id": "018d33cc-044f-486d-b906-cfb3fe8645fb",
   "metadata": {},
   "outputs": [
    {
     "data": {
      "text/plain": [
       "array([[0, 1, 2],\n",
       "       [1, 2, 3],\n",
       "       [2, 3, 4]])"
      ]
     },
     "execution_count": 96,
     "metadata": {},
     "output_type": "execute_result"
    }
   ],
   "source": [
    "a+b"
   ]
  },
  {
   "cell_type": "code",
   "execution_count": 97,
   "id": "294ccd0c-8104-4b5d-8645-bfc702724ad0",
   "metadata": {},
   "outputs": [],
   "source": [
    "M=np.ones((2,3))\n",
    "a=np.arange(3)"
   ]
  },
  {
   "cell_type": "code",
   "execution_count": 98,
   "id": "60064554-54fd-4dbe-9b78-54179bd3a825",
   "metadata": {},
   "outputs": [
    {
     "name": "stdout",
     "output_type": "stream",
     "text": [
      "[[1. 1. 1.]\n",
      " [1. 1. 1.]]\n",
      "[0 1 2]\n"
     ]
    }
   ],
   "source": [
    "print(M)\n",
    "print(a)"
   ]
  },
  {
   "cell_type": "code",
   "execution_count": 99,
   "id": "e1ec3041-ed02-4018-98db-2db49b90f58a",
   "metadata": {},
   "outputs": [
    {
     "data": {
      "text/plain": [
       "array([[1., 2., 3.],\n",
       "       [1., 2., 3.]])"
      ]
     },
     "execution_count": 99,
     "metadata": {},
     "output_type": "execute_result"
    }
   ],
   "source": [
    "M+a"
   ]
  },
  {
   "cell_type": "code",
   "execution_count": 100,
   "id": "fd19b55f-7914-411f-b9bb-6ab9f393c11e",
   "metadata": {},
   "outputs": [],
   "source": [
    "a=np.arange(3).reshape((3,1))\n",
    "b=np.arange(3)"
   ]
  },
  {
   "cell_type": "code",
   "execution_count": 101,
   "id": "f6605d32-011e-48a9-b9c0-f8d237f00f7c",
   "metadata": {},
   "outputs": [
    {
     "name": "stdout",
     "output_type": "stream",
     "text": [
      "[[0]\n",
      " [1]\n",
      " [2]]\n",
      "[0 1 2]\n"
     ]
    }
   ],
   "source": [
    "print(a)\n",
    "print(b)"
   ]
  },
  {
   "cell_type": "code",
   "execution_count": 102,
   "id": "ddda85c7-613c-4330-aae5-ae991471420d",
   "metadata": {},
   "outputs": [],
   "source": [
    "a=np.arange(3).reshape((3,1))\n",
    "b=np.arange(3)"
   ]
  },
  {
   "cell_type": "code",
   "execution_count": 103,
   "id": "aa66e4af-0cbc-4098-a8cb-cb48abc3d992",
   "metadata": {},
   "outputs": [
    {
     "name": "stdout",
     "output_type": "stream",
     "text": [
      "[[0]\n",
      " [1]\n",
      " [2]]\n"
     ]
    }
   ],
   "source": [
    "print(a)"
   ]
  },
  {
   "cell_type": "code",
   "execution_count": 104,
   "id": "20927ea2-4647-45bc-81d8-106787bbacb1",
   "metadata": {},
   "outputs": [
    {
     "name": "stdout",
     "output_type": "stream",
     "text": [
      "[0 1 2]\n"
     ]
    }
   ],
   "source": [
    "print(b)"
   ]
  },
  {
   "cell_type": "code",
   "execution_count": 105,
   "id": "22c2b264-221f-410c-b032-619f7bdc45ae",
   "metadata": {},
   "outputs": [
    {
     "data": {
      "text/plain": [
       "array([[0, 1, 2],\n",
       "       [1, 2, 3],\n",
       "       [2, 3, 4]])"
      ]
     },
     "execution_count": 105,
     "metadata": {},
     "output_type": "execute_result"
    }
   ],
   "source": [
    "a+b"
   ]
  },
  {
   "cell_type": "code",
   "execution_count": 107,
   "id": "14fe8fb7-e941-4c9c-ab6e-b4b0b601cc39",
   "metadata": {},
   "outputs": [],
   "source": [
    "M=np.ones((3,2))\n",
    "a=np.arange(3)"
   ]
  },
  {
   "cell_type": "code",
   "execution_count": 109,
   "id": "5c24aa0f-7ad9-464b-adc6-65bbf372be51",
   "metadata": {},
   "outputs": [
    {
     "name": "stdout",
     "output_type": "stream",
     "text": [
      "[[1. 1.]\n",
      " [1. 1.]\n",
      " [1. 1.]]\n",
      "[0 1 2]\n"
     ]
    }
   ],
   "source": [
    "print(M)\n",
    "print(a)"
   ]
  },
  {
   "cell_type": "code",
   "execution_count": 110,
   "id": "d0d7030b-a51d-486b-8f2b-8f636d408c7b",
   "metadata": {},
   "outputs": [
    {
     "ename": "ValueError",
     "evalue": "operands could not be broadcast together with shapes (3,2) (3,) ",
     "output_type": "error",
     "traceback": [
      "\u001b[1;31m---------------------------------------------------------------------------\u001b[0m",
      "\u001b[1;31mValueError\u001b[0m                                Traceback (most recent call last)",
      "Cell \u001b[1;32mIn[110], line 1\u001b[0m\n\u001b[1;32m----> 1\u001b[0m \u001b[43mM\u001b[49m\u001b[38;5;241;43m+\u001b[39;49m\u001b[43ma\u001b[49m\n",
      "\u001b[1;31mValueError\u001b[0m: operands could not be broadcast together with shapes (3,2) (3,) "
     ]
    }
   ],
   "source": [
    "M+a"
   ]
  },
  {
   "cell_type": "code",
   "execution_count": 111,
   "id": "7129959f-031e-4857-9da2-ce73dc650ad5",
   "metadata": {},
   "outputs": [
    {
     "data": {
      "text/plain": [
       "(3, 1)"
      ]
     },
     "execution_count": 111,
     "metadata": {},
     "output_type": "execute_result"
    }
   ],
   "source": [
    "a[:,np.newaxis].shape"
   ]
  },
  {
   "cell_type": "code",
   "execution_count": 112,
   "id": "8ca6f505-b53e-4eed-ac3b-27465add9e30",
   "metadata": {},
   "outputs": [
    {
     "data": {
      "text/plain": [
       "array([[1., 1.],\n",
       "       [2., 2.],\n",
       "       [3., 3.]])"
      ]
     },
     "execution_count": 112,
     "metadata": {},
     "output_type": "execute_result"
    }
   ],
   "source": [
    "M+a[:,np.newaxis]"
   ]
  },
  {
   "cell_type": "code",
   "execution_count": 113,
   "id": "3ce09701-579a-4164-a125-b2d5ed9826a2",
   "metadata": {},
   "outputs": [],
   "source": [
    "x=np.random.random((10,3))"
   ]
  },
  {
   "cell_type": "code",
   "execution_count": 114,
   "id": "e928326c-0392-4193-be17-c3805658959d",
   "metadata": {},
   "outputs": [
    {
     "data": {
      "text/plain": [
       "array([[0.95884927, 0.17809462, 0.61130112],\n",
       "       [0.7044003 , 0.89172417, 0.51511729],\n",
       "       [0.73705298, 0.17818634, 0.24485169],\n",
       "       [0.53432654, 0.2410882 , 0.26206357],\n",
       "       [0.79908324, 0.80585532, 0.73896809],\n",
       "       [0.33675004, 0.26077314, 0.97274849],\n",
       "       [0.08868532, 0.39162781, 0.37355611],\n",
       "       [0.16126977, 0.00997393, 0.1311132 ],\n",
       "       [0.29235286, 0.86442677, 0.21448598],\n",
       "       [0.2646182 , 0.41150714, 0.99484401]])"
      ]
     },
     "execution_count": 114,
     "metadata": {},
     "output_type": "execute_result"
    }
   ],
   "source": [
    "x"
   ]
  },
  {
   "cell_type": "code",
   "execution_count": 115,
   "id": "be450a5d-a684-458b-a90c-a1c3825ce671",
   "metadata": {},
   "outputs": [],
   "source": [
    "xmean=x.mean(0)"
   ]
  },
  {
   "cell_type": "code",
   "execution_count": 116,
   "id": "33298c48-9108-42ea-b026-f9b10c4ff5f8",
   "metadata": {},
   "outputs": [
    {
     "data": {
      "text/plain": [
       "array([0.48773885, 0.42332575, 0.50590496])"
      ]
     },
     "execution_count": 116,
     "metadata": {},
     "output_type": "execute_result"
    }
   ],
   "source": [
    "xmean"
   ]
  },
  {
   "cell_type": "code",
   "execution_count": 117,
   "id": "4a523f79-fedd-4752-a358-9014fc2f25ca",
   "metadata": {},
   "outputs": [],
   "source": [
    "x_centerd=x-xmean"
   ]
  },
  {
   "cell_type": "code",
   "execution_count": 118,
   "id": "8f934347-b7fe-43b9-921a-f200a94ebe06",
   "metadata": {},
   "outputs": [
    {
     "data": {
      "text/plain": [
       "array([ 5.55111512e-18, -4.44089210e-17,  8.88178420e-17])"
      ]
     },
     "execution_count": 118,
     "metadata": {},
     "output_type": "execute_result"
    }
   ],
   "source": [
    "x_centerd.mean(0)"
   ]
  },
  {
   "cell_type": "code",
   "execution_count": 119,
   "id": "50f4f4d6-e751-4f5d-aeee-8e038c9c054d",
   "metadata": {},
   "outputs": [],
   "source": [
    "x=np.linspace(0,5,50)\n",
    "y=np.linspace(0,5,50)[:,np.newaxis]\n",
    "z=np.sin(x)**10 +np.cos(10+y*x)*np.cos(x)"
   ]
  },
  {
   "cell_type": "code",
   "execution_count": 120,
   "id": "57d94012-543e-4b48-a8e8-f85e371bd371",
   "metadata": {},
   "outputs": [
    {
     "data": {
      "text/plain": [
       "array([[-0.83907153, -0.83470697, -0.8216586 , ...,  0.8956708 ,\n",
       "         0.68617261,  0.41940746],\n",
       "       [-0.83907153, -0.82902677, -0.8103873 , ...,  0.92522407,\n",
       "         0.75321348,  0.52508175],\n",
       "       [-0.83907153, -0.82325668, -0.79876457, ...,  0.96427357,\n",
       "         0.84172689,  0.66446403],\n",
       "       ...,\n",
       "       [-0.83907153, -0.48233077, -0.01646558, ...,  0.96449925,\n",
       "         0.75196531,  0.41982581],\n",
       "       [-0.83907153, -0.47324558,  0.00392612, ...,  0.92542163,\n",
       "         0.68540362,  0.37440839],\n",
       "       [-0.83907153, -0.46410908,  0.02431613, ...,  0.89579384,\n",
       "         0.65690314,  0.40107702]])"
      ]
     },
     "execution_count": 120,
     "metadata": {},
     "output_type": "execute_result"
    }
   ],
   "source": [
    "x\n",
    "y\n",
    "z"
   ]
  },
  {
   "cell_type": "code",
   "execution_count": 121,
   "id": "154217fd-4a24-4395-b3c3-974d304e32d2",
   "metadata": {},
   "outputs": [
    {
     "name": "stdout",
     "output_type": "stream",
     "text": [
      "Using matplotlib backend: <object object at 0x000001E2D41398A0>\n"
     ]
    }
   ],
   "source": [
    "%matplotlib\n",
    "import matplotlib.pyplot as plt\n",
    "plt.imshow(z, origin='lower', extent=[0,5,0,5], cmap='viridis')\n",
    "plt.colorbar();"
   ]
  },
  {
   "cell_type": "code",
   "execution_count": null,
   "id": "4940ee61-fe72-4683-8f10-eb0f9a2b47ea",
   "metadata": {},
   "outputs": [],
   "source": []
  }
 ],
 "metadata": {
  "kernelspec": {
   "display_name": "Python 3 (ipykernel)",
   "language": "python",
   "name": "python3"
  },
  "language_info": {
   "codemirror_mode": {
    "name": "ipython",
    "version": 3
   },
   "file_extension": ".py",
   "mimetype": "text/x-python",
   "name": "python",
   "nbconvert_exporter": "python",
   "pygments_lexer": "ipython3",
   "version": "3.9.13"
  }
 },
 "nbformat": 4,
 "nbformat_minor": 5
}
