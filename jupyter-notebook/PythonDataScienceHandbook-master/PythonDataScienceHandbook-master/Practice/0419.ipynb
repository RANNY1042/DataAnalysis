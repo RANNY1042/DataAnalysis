{
 "cells": [
  {
   "cell_type": "code",
   "execution_count": 53,
   "id": "4cc4ce26-b992-4ab2-8c03-4df363fbe948",
   "metadata": {},
   "outputs": [],
   "source": [
    "def np_info (a):\n",
    "    print(type(a), a.shape, a.dtype)"
   ]
  },
  {
   "cell_type": "code",
   "execution_count": 2,
   "id": "35dc00ef-5951-4222-95e3-3c2edd410211",
   "metadata": {},
   "outputs": [
    {
     "ename": "NameError",
     "evalue": "name 'np_info' is not defined",
     "output_type": "error",
     "traceback": [
      "\u001b[1;31m---------------------------------------------------------------------------\u001b[0m",
      "\u001b[1;31mNameError\u001b[0m                                 Traceback (most recent call last)",
      "Cell \u001b[1;32mIn[2], line 3\u001b[0m\n\u001b[0;32m      1\u001b[0m \u001b[38;5;28;01mimport\u001b[39;00m \u001b[38;5;21;01mnumpy\u001b[39;00m \u001b[38;5;28;01mas\u001b[39;00m \u001b[38;5;21;01mnp\u001b[39;00m\n\u001b[0;32m      2\u001b[0m a\u001b[38;5;241m=\u001b[39mnp\u001b[38;5;241m.\u001b[39mrandom\u001b[38;5;241m.\u001b[39mnormal(\u001b[38;5;241m50\u001b[39m,\u001b[38;5;241m0.5\u001b[39m,(\u001b[38;5;241m32\u001b[39m,\u001b[38;5;241m3\u001b[39m,\u001b[38;5;241m224\u001b[39m,\u001b[38;5;241m224\u001b[39m))\n\u001b[1;32m----> 3\u001b[0m \u001b[43mnp_info\u001b[49m(a)\n\u001b[0;32m      4\u001b[0m a\n",
      "\u001b[1;31mNameError\u001b[0m: name 'np_info' is not defined"
     ]
    }
   ],
   "source": [
    "import numpy as np\n",
    "a=np.random.normal(50,0.5,(32,3,224,224))\n",
    "np_info(a)\n",
    "a"
   ]
  },
  {
   "cell_type": "code",
   "execution_count": 23,
   "id": "da1fdcf8-a640-44e6-8b03-056fa125763b",
   "metadata": {},
   "outputs": [
    {
     "ename": "TypeError",
     "evalue": "can only concatenate str (not \"int\") to str",
     "output_type": "error",
     "traceback": [
      "\u001b[1;31m---------------------------------------------------------------------------\u001b[0m",
      "\u001b[1;31mTypeError\u001b[0m                                 Traceback (most recent call last)",
      "Cell \u001b[1;32mIn[23], line 3\u001b[0m\n\u001b[0;32m      1\u001b[0m a\u001b[38;5;241m=\u001b[39mnp\u001b[38;5;241m.\u001b[39marange(\u001b[38;5;241m1\u001b[39m,\u001b[38;5;241m100\u001b[39m)\n\u001b[0;32m      2\u001b[0m \u001b[38;5;28mlen\u001b[39m(a),a[\u001b[38;5;241m49\u001b[39m],\u001b[38;5;28mlen\u001b[39m(a[:\u001b[38;5;241m50\u001b[39m]), \u001b[38;5;28mlen\u001b[39m(a[\u001b[38;5;241m50\u001b[39m:])\n\u001b[1;32m----> 3\u001b[0m \u001b[43mnp_info\u001b[49m\u001b[43m(\u001b[49m\u001b[43ma\u001b[49m\u001b[43m)\u001b[49m\n",
      "Cell \u001b[1;32mIn[21], line 2\u001b[0m, in \u001b[0;36mnp_info\u001b[1;34m(a)\u001b[0m\n\u001b[0;32m      1\u001b[0m \u001b[38;5;28;01mdef\u001b[39;00m \u001b[38;5;21mnp_info\u001b[39m (a):\n\u001b[1;32m----> 2\u001b[0m     \u001b[38;5;28;01mreturn\u001b[39;00m \u001b[38;5;124;43m\"\u001b[39;49m\u001b[38;5;124;43mndim:\u001b[39;49m\u001b[38;5;124;43m\"\u001b[39;49m\u001b[38;5;241;43m+\u001b[39;49m\u001b[43m \u001b[49m\u001b[43ma\u001b[49m\u001b[38;5;241;43m.\u001b[39;49m\u001b[43mndim\u001b[49m, \u001b[38;5;124m\"\u001b[39m\u001b[38;5;124mshape:\u001b[39m\u001b[38;5;124m\"\u001b[39m\u001b[38;5;241m+\u001b[39ma\u001b[38;5;241m.\u001b[39mshape, \u001b[38;5;124m\"\u001b[39m\u001b[38;5;124msize:\u001b[39m\u001b[38;5;124m\"\u001b[39m\u001b[38;5;241m+\u001b[39ma\u001b[38;5;241m.\u001b[39msize, \u001b[38;5;124m\"\u001b[39m\u001b[38;5;124mdtype:\u001b[39m\u001b[38;5;124m\"\u001b[39m\u001b[38;5;241m+\u001b[39ma\u001b[38;5;241m.\u001b[39mdtype\n",
      "\u001b[1;31mTypeError\u001b[0m: can only concatenate str (not \"int\") to str"
     ]
    }
   ],
   "source": [
    "a=np.arange(1,100)\n",
    "len(a),a[49],len(a[:50]), len(a[50:])\n",
    "np_info(a)"
   ]
  },
  {
   "cell_type": "code",
   "execution_count": 22,
   "id": "33005187-efad-4311-bd7c-6130cee91f8a",
   "metadata": {},
   "outputs": [
    {
     "ename": "TypeError",
     "evalue": "can only concatenate str (not \"int\") to str",
     "output_type": "error",
     "traceback": [
      "\u001b[1;31m---------------------------------------------------------------------------\u001b[0m",
      "\u001b[1;31mTypeError\u001b[0m                                 Traceback (most recent call last)",
      "Cell \u001b[1;32mIn[22], line 2\u001b[0m\n\u001b[0;32m      1\u001b[0m a\u001b[38;5;241m=\u001b[39mnp\u001b[38;5;241m.\u001b[39mrandom\u001b[38;5;241m.\u001b[39mrandom((\u001b[38;5;241m10\u001b[39m,\u001b[38;5;241m10\u001b[39m))\n\u001b[1;32m----> 2\u001b[0m \u001b[43mnp_info\u001b[49m\u001b[43m(\u001b[49m\u001b[43ma\u001b[49m\u001b[43m)\u001b[49m\n",
      "Cell \u001b[1;32mIn[21], line 2\u001b[0m, in \u001b[0;36mnp_info\u001b[1;34m(a)\u001b[0m\n\u001b[0;32m      1\u001b[0m \u001b[38;5;28;01mdef\u001b[39;00m \u001b[38;5;21mnp_info\u001b[39m (a):\n\u001b[1;32m----> 2\u001b[0m     \u001b[38;5;28;01mreturn\u001b[39;00m \u001b[38;5;124;43m\"\u001b[39;49m\u001b[38;5;124;43mndim:\u001b[39;49m\u001b[38;5;124;43m\"\u001b[39;49m\u001b[38;5;241;43m+\u001b[39;49m\u001b[43m \u001b[49m\u001b[43ma\u001b[49m\u001b[38;5;241;43m.\u001b[39;49m\u001b[43mndim\u001b[49m, \u001b[38;5;124m\"\u001b[39m\u001b[38;5;124mshape:\u001b[39m\u001b[38;5;124m\"\u001b[39m\u001b[38;5;241m+\u001b[39ma\u001b[38;5;241m.\u001b[39mshape, \u001b[38;5;124m\"\u001b[39m\u001b[38;5;124msize:\u001b[39m\u001b[38;5;124m\"\u001b[39m\u001b[38;5;241m+\u001b[39ma\u001b[38;5;241m.\u001b[39msize, \u001b[38;5;124m\"\u001b[39m\u001b[38;5;124mdtype:\u001b[39m\u001b[38;5;124m\"\u001b[39m\u001b[38;5;241m+\u001b[39ma\u001b[38;5;241m.\u001b[39mdtype\n",
      "\u001b[1;31mTypeError\u001b[0m: can only concatenate str (not \"int\") to str"
     ]
    }
   ],
   "source": [
    "a=np.random.random((10,10))\n",
    "np_info(a)"
   ]
  },
  {
   "cell_type": "code",
   "execution_count": 26,
   "id": "db4f962f-6a56-4d17-a908-cbb1302dce89",
   "metadata": {},
   "outputs": [
    {
     "data": {
      "text/plain": [
       "array([0, 1, 2, 3, 4, 5, 6, 7, 8, 9])"
      ]
     },
     "execution_count": 26,
     "metadata": {},
     "output_type": "execute_result"
    }
   ],
   "source": [
    "a=np.arange(10)\n",
    "a"
   ]
  },
  {
   "cell_type": "code",
   "execution_count": 29,
   "id": "0560c48e-1dcf-40b5-bb1e-3e53d94d57a8",
   "metadata": {},
   "outputs": [],
   "source": [
    "def add_one(a):\n",
    "    a=a+1\n",
    "    print(id(a))"
   ]
  },
  {
   "cell_type": "code",
   "execution_count": 30,
   "id": "6861ee2f-cfde-4e54-951e-79d8c8dd6d73",
   "metadata": {},
   "outputs": [
    {
     "name": "stdout",
     "output_type": "stream",
     "text": [
      "2456084590096\n",
      "2456083088944\n"
     ]
    }
   ],
   "source": [
    "add_one(a)\n",
    "print(id(a))"
   ]
  },
  {
   "cell_type": "code",
   "execution_count": 31,
   "id": "47c327c9-102f-4960-92ac-36dd7002645b",
   "metadata": {},
   "outputs": [],
   "source": [
    "def add_one(a):\n",
    "    a = a + np.array([100])\n",
    "    print(id(a))"
   ]
  },
  {
   "cell_type": "code",
   "execution_count": 32,
   "id": "6daa2e42-b7a2-4abb-bccf-c9f9f3dd47ef",
   "metadata": {},
   "outputs": [
    {
     "name": "stdout",
     "output_type": "stream",
     "text": [
      "2456084589616\n",
      "2456083088944\n"
     ]
    }
   ],
   "source": [
    "add_one(a)\n",
    "print(id(a))"
   ]
  },
  {
   "cell_type": "code",
   "execution_count": 33,
   "id": "0cb167ae-71c0-4e0e-98bc-a49aed72549d",
   "metadata": {},
   "outputs": [
    {
     "data": {
      "text/plain": [
       "array([0, 1, 2, 3, 4, 5, 6, 7, 8, 9])"
      ]
     },
     "execution_count": 33,
     "metadata": {},
     "output_type": "execute_result"
    }
   ],
   "source": [
    "a=np.arange(10)\n",
    "a"
   ]
  },
  {
   "cell_type": "code",
   "execution_count": 36,
   "id": "5a1fc6be-2bbc-4f52-889d-fcb0f2b10558",
   "metadata": {},
   "outputs": [
    {
     "data": {
      "text/plain": [
       "array([  0,   1,   2,   3, 100,   5,   6,   7,   8,   9])"
      ]
     },
     "execution_count": 36,
     "metadata": {},
     "output_type": "execute_result"
    }
   ],
   "source": [
    "b=a\n",
    "b[4]=100\n",
    "a"
   ]
  },
  {
   "cell_type": "code",
   "execution_count": 38,
   "id": "0df7b957-0deb-4544-a179-8a7a06f092b1",
   "metadata": {},
   "outputs": [
    {
     "data": {
      "text/plain": [
       "array([  0,   1,   2,   3, 100,   5,   6,   7,   8,   9])"
      ]
     },
     "execution_count": 38,
     "metadata": {},
     "output_type": "execute_result"
    }
   ],
   "source": [
    "b=a.copy()\n",
    "b[4]=2\n",
    "a"
   ]
  },
  {
   "cell_type": "code",
   "execution_count": 39,
   "id": "36e13ca0-e06b-4230-9969-7d932a80c584",
   "metadata": {},
   "outputs": [
    {
     "data": {
      "text/plain": [
       "array([  0,   1,   2,   3, 100,   5,   6,   7,   8,   9])"
      ]
     },
     "execution_count": 39,
     "metadata": {},
     "output_type": "execute_result"
    }
   ],
   "source": [
    "a"
   ]
  },
  {
   "cell_type": "code",
   "execution_count": 40,
   "id": "4a716082-d7ad-4191-a85b-25627b7ff95c",
   "metadata": {},
   "outputs": [
    {
     "data": {
      "text/plain": [
       "array([0, 1, 2, 3, 2, 5, 6, 7, 8, 9])"
      ]
     },
     "execution_count": 40,
     "metadata": {},
     "output_type": "execute_result"
    }
   ],
   "source": [
    "b"
   ]
  },
  {
   "cell_type": "code",
   "execution_count": 41,
   "id": "91de09ba-0818-465c-bdd7-e0d5d26cf232",
   "metadata": {},
   "outputs": [
    {
     "data": {
      "text/plain": [
       "(2456084589712, 2456084641616)"
      ]
     },
     "execution_count": 41,
     "metadata": {},
     "output_type": "execute_result"
    }
   ],
   "source": [
    "id(a),id(b)"
   ]
  },
  {
   "cell_type": "code",
   "execution_count": 42,
   "id": "2ecafe62-fc4f-417f-ac7f-cae0e4d71515",
   "metadata": {},
   "outputs": [],
   "source": [
    "x=np.array([1,2,3])"
   ]
  },
  {
   "cell_type": "code",
   "execution_count": 43,
   "id": "a91a7def-ea3a-4a80-a9c0-7c45d1f9adf9",
   "metadata": {},
   "outputs": [
    {
     "data": {
      "text/plain": [
       "array([1, 2, 3])"
      ]
     },
     "execution_count": 43,
     "metadata": {},
     "output_type": "execute_result"
    }
   ],
   "source": [
    "x"
   ]
  },
  {
   "cell_type": "code",
   "execution_count": 44,
   "id": "0d1ec91b-cbf0-4151-9a81-86fe80e493f6",
   "metadata": {},
   "outputs": [
    {
     "data": {
      "text/plain": [
       "array([[1, 2, 3]])"
      ]
     },
     "execution_count": 44,
     "metadata": {},
     "output_type": "execute_result"
    }
   ],
   "source": [
    "x[np.newaxis,:]"
   ]
  },
  {
   "cell_type": "code",
   "execution_count": 45,
   "id": "c8fae60b-4dfd-4b63-94e2-4da23601a5b3",
   "metadata": {},
   "outputs": [
    {
     "data": {
      "text/plain": [
       "array([[1],\n",
       "       [2],\n",
       "       [3]])"
      ]
     },
     "execution_count": 45,
     "metadata": {},
     "output_type": "execute_result"
    }
   ],
   "source": [
    "x.reshape((3,1))"
   ]
  },
  {
   "cell_type": "code",
   "execution_count": 47,
   "id": "d3505d10-4f1b-46fd-b657-29a7429ce480",
   "metadata": {},
   "outputs": [
    {
     "data": {
      "text/plain": [
       "array([[1],\n",
       "       [2],\n",
       "       [3]])"
      ]
     },
     "execution_count": 47,
     "metadata": {},
     "output_type": "execute_result"
    }
   ],
   "source": [
    "x[:,np.newaxis]"
   ]
  },
  {
   "cell_type": "code",
   "execution_count": 52,
   "id": "0de0176b-b1b9-497d-b0c6-01a0167c5170",
   "metadata": {},
   "outputs": [
    {
     "data": {
      "text/plain": [
       "array([[0.27916217, 0.10486591, 0.18442659],\n",
       "       [0.78906641, 0.49387033, 0.54090751]])"
      ]
     },
     "execution_count": 52,
     "metadata": {},
     "output_type": "execute_result"
    }
   ],
   "source": [
    "a=np.random.random((2,3))\n",
    "a"
   ]
  },
  {
   "cell_type": "code",
   "execution_count": 55,
   "id": "c3a84906-19f9-4982-85c8-6edb7705a368",
   "metadata": {},
   "outputs": [
    {
     "name": "stdout",
     "output_type": "stream",
     "text": [
      "[[0.27916217 0.10486591]\n",
      " [0.18442659 0.78906641]\n",
      " [0.49387033 0.54090751]]\n",
      "<class 'numpy.ndarray'> (3, 2) float64\n"
     ]
    }
   ],
   "source": [
    "b=a.reshape((3,2))\n",
    "print(b)\n",
    "np_info(b)"
   ]
  },
  {
   "cell_type": "code",
   "execution_count": 56,
   "id": "f7eabe7b-691c-4997-983e-b819a268cc22",
   "metadata": {},
   "outputs": [
    {
     "name": "stdout",
     "output_type": "stream",
     "text": [
      "<class 'numpy.ndarray'> (6,) float64\n"
     ]
    },
    {
     "data": {
      "text/plain": [
       "array([0.27916217, 0.10486591, 0.18442659, 0.78906641, 0.49387033,\n",
       "       0.54090751])"
      ]
     },
     "execution_count": 56,
     "metadata": {},
     "output_type": "execute_result"
    }
   ],
   "source": [
    "c=a.flatten()\n",
    "np_info(c)\n",
    "c"
   ]
  },
  {
   "cell_type": "code",
   "execution_count": 57,
   "id": "f4d103b1-8c5d-4d4d-86c2-b15862bc69c4",
   "metadata": {},
   "outputs": [
    {
     "name": "stdout",
     "output_type": "stream",
     "text": [
      "<class 'numpy.ndarray'> (2, 3) float64\n"
     ]
    }
   ],
   "source": [
    "np_info(a)"
   ]
  },
  {
   "cell_type": "code",
   "execution_count": 60,
   "id": "519e9db9-27bf-4ccd-94eb-0f00db9f47b9",
   "metadata": {},
   "outputs": [
    {
     "name": "stdout",
     "output_type": "stream",
     "text": [
      "<class 'numpy.ndarray'> (1, 2, 3) float64\n"
     ]
    }
   ],
   "source": [
    "d=np.expand_dims(a, axis=0)\n",
    "np_info(d)"
   ]
  },
  {
   "cell_type": "code",
   "execution_count": 61,
   "id": "ecc981f3-bdc4-4a45-a502-419208f78b30",
   "metadata": {},
   "outputs": [
    {
     "data": {
      "text/plain": [
       "array([[[0.27916217, 0.10486591, 0.18442659],\n",
       "        [0.78906641, 0.49387033, 0.54090751]]])"
      ]
     },
     "execution_count": 61,
     "metadata": {},
     "output_type": "execute_result"
    }
   ],
   "source": [
    "d"
   ]
  },
  {
   "cell_type": "code",
   "execution_count": 63,
   "id": "2d09adeb-8ec3-46d5-8e6d-814e5553dbd0",
   "metadata": {},
   "outputs": [
    {
     "data": {
      "text/plain": [
       "array([1, 2, 3, 3, 2, 1])"
      ]
     },
     "execution_count": 63,
     "metadata": {},
     "output_type": "execute_result"
    }
   ],
   "source": [
    "x=np.array([1,2,3])\n",
    "y=np.array([3,2,1])\n",
    "np.concatenate([x,y])"
   ]
  },
  {
   "cell_type": "code",
   "execution_count": 69,
   "id": "3574b407-7742-42bc-9c52-0f4e1f3e7506",
   "metadata": {},
   "outputs": [
    {
     "name": "stdout",
     "output_type": "stream",
     "text": [
      "[ 1  2  3  3  2  1 99 99 99]\n"
     ]
    }
   ],
   "source": [
    "z=[99,99,99]\n",
    "print(np.concatenate([x,y,z]))"
   ]
  },
  {
   "cell_type": "code",
   "execution_count": 74,
   "id": "c4ecebd3-4a6a-4120-895b-ed38d424f3fe",
   "metadata": {},
   "outputs": [],
   "source": [
    "grid= np.array([[1,2,3],\n",
    "                [4,5,6]])"
   ]
  },
  {
   "cell_type": "code",
   "execution_count": 75,
   "id": "745caf60-1dd0-49ac-a72b-d148d3371b05",
   "metadata": {},
   "outputs": [
    {
     "data": {
      "text/plain": [
       "array([[1, 2, 3, 1, 2, 3],\n",
       "       [4, 5, 6, 4, 5, 6]])"
      ]
     },
     "execution_count": 75,
     "metadata": {},
     "output_type": "execute_result"
    }
   ],
   "source": [
    "np.concatenate([grid,grid],axis=1)"
   ]
  },
  {
   "cell_type": "code",
   "execution_count": 76,
   "id": "3d733ed6-c6e6-401a-966a-b34955bdeb53",
   "metadata": {},
   "outputs": [
    {
     "data": {
      "text/plain": [
       "(32, 28, 28)"
      ]
     },
     "execution_count": 76,
     "metadata": {},
     "output_type": "execute_result"
    }
   ],
   "source": [
    "b=np.random.random((32,28,28))\n",
    "b.shape"
   ]
  },
  {
   "cell_type": "code",
   "execution_count": 77,
   "id": "ff4eef65-a451-40eb-87e2-91a01e11da7d",
   "metadata": {},
   "outputs": [
    {
     "data": {
      "text/plain": [
       "(32, 1, 28, 28)"
      ]
     },
     "execution_count": 77,
     "metadata": {},
     "output_type": "execute_result"
    }
   ],
   "source": [
    "b[:,np.newaxis,:].shape"
   ]
  },
  {
   "cell_type": "code",
   "execution_count": 78,
   "id": "0367aada-20a6-4d87-8992-88bbfaa781a5",
   "metadata": {},
   "outputs": [
    {
     "data": {
      "text/plain": [
       "(32, 1, 28, 28)"
      ]
     },
     "execution_count": 78,
     "metadata": {},
     "output_type": "execute_result"
    }
   ],
   "source": [
    "np.expand_dims(b,axis=1).shape"
   ]
  },
  {
   "cell_type": "code",
   "execution_count": 80,
   "id": "f342b65c-0fe5-40ab-9a9c-25cbf5bd60a9",
   "metadata": {},
   "outputs": [
    {
     "data": {
      "text/plain": [
       "(32, 28, 28, 1)"
      ]
     },
     "execution_count": 80,
     "metadata": {},
     "output_type": "execute_result"
    }
   ],
   "source": [
    "np.expand_dims(b,axis=3).shape"
   ]
  },
  {
   "cell_type": "code",
   "execution_count": 81,
   "id": "b3b3efff-2485-4a0c-9259-58392770e3be",
   "metadata": {},
   "outputs": [
    {
     "data": {
      "text/plain": [
       "'abcdef'"
      ]
     },
     "execution_count": 81,
     "metadata": {},
     "output_type": "execute_result"
    }
   ],
   "source": [
    "'abc'+'def'"
   ]
  },
  {
   "cell_type": "code",
   "execution_count": 97,
   "id": "4fea5104-2c85-4621-a0c8-18adf8b52228",
   "metadata": {},
   "outputs": [
    {
     "data": {
      "text/plain": [
       "array([[0.44969625, 0.45278177, 0.8773401 ],\n",
       "       [0.79685491, 0.24759894, 0.45730687]])"
      ]
     },
     "execution_count": 97,
     "metadata": {},
     "output_type": "execute_result"
    }
   ],
   "source": [
    "x1=np.random.random((2,3))\n",
    "x2=np.random.random((2,3))\n",
    "\n",
    "x1"
   ]
  },
  {
   "cell_type": "code",
   "execution_count": 90,
   "id": "13c3b28a-1310-4976-ae49-6be89744e1be",
   "metadata": {},
   "outputs": [
    {
     "data": {
      "text/plain": [
       "((2, 3), (2, 3))"
      ]
     },
     "execution_count": 90,
     "metadata": {},
     "output_type": "execute_result"
    }
   ],
   "source": [
    "x1.shape, x2.shape"
   ]
  },
  {
   "cell_type": "code",
   "execution_count": 100,
   "id": "eccf533a-b80e-4e9f-8638-3571736e11d5",
   "metadata": {},
   "outputs": [],
   "source": [
    "x3=np.concatenate([x1,x2],axis=1)"
   ]
  },
  {
   "cell_type": "code",
   "execution_count": 101,
   "id": "80be1a61-3179-4662-b04d-787dd878368b",
   "metadata": {},
   "outputs": [
    {
     "data": {
      "text/plain": [
       "array([[0.44969625, 0.45278177, 0.8773401 , 0.71526866, 0.01153905,\n",
       "        0.49682704],\n",
       "       [0.79685491, 0.24759894, 0.45730687, 0.44106358, 0.98577128,\n",
       "        0.72650755]])"
      ]
     },
     "execution_count": 101,
     "metadata": {},
     "output_type": "execute_result"
    }
   ],
   "source": [
    "x3"
   ]
  },
  {
   "cell_type": "code",
   "execution_count": 102,
   "id": "fa7d50d5-cc5b-46ed-8c20-478bc148974b",
   "metadata": {},
   "outputs": [
    {
     "data": {
      "text/plain": [
       "(2, 6)"
      ]
     },
     "execution_count": 102,
     "metadata": {},
     "output_type": "execute_result"
    }
   ],
   "source": [
    "x3.shape"
   ]
  },
  {
   "cell_type": "code",
   "execution_count": 103,
   "id": "890dd5fe-1523-46cf-a6f7-d5155f652267",
   "metadata": {},
   "outputs": [],
   "source": [
    "x=np.array([1,2,3])\n",
    "grid=np.array([[9,8,7],\n",
    "               [6,5,4]])"
   ]
  },
  {
   "cell_type": "code",
   "execution_count": 104,
   "id": "3893751a-a3c7-4de4-b906-91b3b72ea28c",
   "metadata": {},
   "outputs": [
    {
     "data": {
      "text/plain": [
       "array([[1, 2, 3],\n",
       "       [9, 8, 7],\n",
       "       [6, 5, 4]])"
      ]
     },
     "execution_count": 104,
     "metadata": {},
     "output_type": "execute_result"
    }
   ],
   "source": [
    "np.vstack([x,grid])"
   ]
  },
  {
   "cell_type": "code",
   "execution_count": 110,
   "id": "6c96276d-e05a-4448-92e3-258e6cfc68c6",
   "metadata": {},
   "outputs": [
    {
     "data": {
      "text/plain": [
       "array([[ 9,  8,  7, 99],\n",
       "       [ 6,  5,  4, 99]])"
      ]
     },
     "execution_count": 110,
     "metadata": {},
     "output_type": "execute_result"
    }
   ],
   "source": [
    "y=np.array([[99],\n",
    "           [99]])\n",
    "np.hstack([grid,y])"
   ]
  },
  {
   "cell_type": "code",
   "execution_count": 111,
   "id": "46534f6f-6f43-46b6-b7c0-8781edc6736f",
   "metadata": {},
   "outputs": [
    {
     "data": {
      "text/plain": [
       "array([[0, 1, 2],\n",
       "       [3, 4, 5],\n",
       "       [6, 7, 8]])"
      ]
     },
     "execution_count": 111,
     "metadata": {},
     "output_type": "execute_result"
    }
   ],
   "source": [
    "np.arange(9).reshape((3,3))"
   ]
  },
  {
   "cell_type": "code",
   "execution_count": 115,
   "id": "25ed761e-d096-4929-851d-a64ff14381c4",
   "metadata": {},
   "outputs": [
    {
     "data": {
      "text/plain": [
       "(1000000,)"
      ]
     },
     "execution_count": 115,
     "metadata": {},
     "output_type": "execute_result"
    }
   ],
   "source": [
    "big_array=np.random.randint(1,100,size=1000000)\n",
    "big_array.shape"
   ]
  },
  {
   "cell_type": "code",
   "execution_count": 117,
   "id": "7bedf4b8-1f9d-445c-9270-d3771be1af48",
   "metadata": {},
   "outputs": [],
   "source": [
    "import numpy as np\n",
    "np.random.seed(0)\n",
    "\n",
    "def compute_reciprocals(values):\n",
    "    output = np.empty(len(values))\n",
    "    for i in range(len(values)):\n",
    "        output[i]=1.0/values[i]\n",
    "    return output\n",
    "\n",
    "    values = np.random.randint(1,10,size=5)\n",
    "    compute_reciprocals(values)"
   ]
  },
  {
   "cell_type": "code",
   "execution_count": 118,
   "id": "7f68801d-1efb-4e62-869a-f315c905e8a9",
   "metadata": {},
   "outputs": [
    {
     "name": "stdout",
     "output_type": "stream",
     "text": [
      "1.2 s ± 17.5 ms per loop (mean ± std. dev. of 7 runs, 1 loop each)\n"
     ]
    }
   ],
   "source": [
    "%timeit compute_reciprocals(big_array)"
   ]
  },
  {
   "cell_type": "code",
   "execution_count": 119,
   "id": "e2cce4e6-85e1-40ff-bfb1-4c992a582709",
   "metadata": {},
   "outputs": [
    {
     "name": "stdout",
     "output_type": "stream",
     "text": [
      "2.46 ms ± 306 µs per loop (mean ± std. dev. of 7 runs, 100 loops each)\n"
     ]
    }
   ],
   "source": [
    "%timeit (1.0/big_array)"
   ]
  },
  {
   "cell_type": "code",
   "execution_count": 130,
   "id": "30801271-eec5-4319-805e-7bbbaa675360",
   "metadata": {},
   "outputs": [],
   "source": [
    "class my_array:\n",
    "    def __init__(self,n):\n",
    "        self.data=n\n",
    "       \n",
    "    def __add__(self,other):\n",
    "        return self.data+other.data"
   ]
  },
  {
   "cell_type": "code",
   "execution_count": 131,
   "id": "0282dbfb-56be-41d4-a6a9-45aae299d0b7",
   "metadata": {},
   "outputs": [],
   "source": [
    "a=my_array(5)\n",
    "b=my_array(3)"
   ]
  },
  {
   "cell_type": "code",
   "execution_count": 132,
   "id": "f5fef7fd-4b8e-4914-95d3-7c8c9442c08d",
   "metadata": {},
   "outputs": [
    {
     "data": {
      "text/plain": [
       "8"
      ]
     },
     "execution_count": 132,
     "metadata": {},
     "output_type": "execute_result"
    }
   ],
   "source": [
    "a+b"
   ]
  },
  {
   "cell_type": "code",
   "execution_count": 136,
   "id": "8e21c9d5-1c79-450c-bc9c-05724991303c",
   "metadata": {},
   "outputs": [],
   "source": [
    "a=np.array([1,2,3])"
   ]
  },
  {
   "cell_type": "code",
   "execution_count": 137,
   "id": "d426f49b-ceef-449a-a09c-ac27e8cb2360",
   "metadata": {},
   "outputs": [
    {
     "data": {
      "text/plain": [
       "array([ 1,  8, 27], dtype=int32)"
      ]
     },
     "execution_count": 137,
     "metadata": {},
     "output_type": "execute_result"
    }
   ],
   "source": [
    "a**3"
   ]
  },
  {
   "cell_type": "code",
   "execution_count": 164,
   "id": "ae663c15-fb44-4cde-b5d3-4fd830c7c603",
   "metadata": {},
   "outputs": [
    {
     "name": "stdout",
     "output_type": "stream",
     "text": [
      "<class 'numpy.ndarray'> (32, 1, 28, 28) float64\n",
      "<class 'numpy.ndarray'> (32, 3, 224, 224) float64\n"
     ]
    },
    {
     "data": {
      "text/plain": [
       "(None, None)"
      ]
     },
     "execution_count": 164,
     "metadata": {},
     "output_type": "execute_result"
    }
   ],
   "source": [
    "a=np.random.random((32,1,28,28))\n",
    "b=np.random.random((32,3,224,224))\n",
    "np_info(a),np_info(b)"
   ]
  },
  {
   "cell_type": "code",
   "execution_count": 165,
   "id": "87b2e7ed-63db-4c4d-9052-9bf73de6348b",
   "metadata": {},
   "outputs": [
    {
     "data": {
      "text/plain": [
       "(32, 1, 28)"
      ]
     },
     "execution_count": 165,
     "metadata": {},
     "output_type": "execute_result"
    }
   ],
   "source": [
    "np.max(a,axis=2).shape"
   ]
  },
  {
   "cell_type": "code",
   "execution_count": 141,
   "id": "3bfbd0ae-670f-453d-ba23-19975a58f8b7",
   "metadata": {},
   "outputs": [
    {
     "data": {
      "text/plain": [
       "((32, 1, 28, 28), (32, 3, 224, 224))"
      ]
     },
     "execution_count": 141,
     "metadata": {},
     "output_type": "execute_result"
    }
   ],
   "source": [
    "a.shape, b.shape"
   ]
  },
  {
   "cell_type": "code",
   "execution_count": 147,
   "id": "dcbdcd50-f17f-4f79-ae51-ef4083b1ef39",
   "metadata": {},
   "outputs": [
    {
     "data": {
      "text/plain": [
       "12550.599252953414"
      ]
     },
     "execution_count": 147,
     "metadata": {},
     "output_type": "execute_result"
    }
   ],
   "source": [
    "np.sum(a)"
   ]
  },
  {
   "cell_type": "code",
   "execution_count": 145,
   "id": "9bed676d-1364-43fa-91a3-6cab239f6054",
   "metadata": {},
   "outputs": [
    {
     "data": {
      "text/plain": [
       "0.9999415394497767"
      ]
     },
     "execution_count": 145,
     "metadata": {},
     "output_type": "execute_result"
    }
   ],
   "source": [
    "np.max(a)"
   ]
  },
  {
   "cell_type": "code",
   "execution_count": 148,
   "id": "b6f677eb-c7b0-4401-abbf-201c875cc64c",
   "metadata": {},
   "outputs": [
    {
     "data": {
      "text/plain": [
       "array([[[17.42923356, 14.77174973, 17.49974779, 16.40803647,\n",
       "         16.49223533, 15.6333399 , 15.87630323, 18.01248195,\n",
       "         13.81608863, 15.7290132 , 13.02696863, 15.48012869,\n",
       "         16.38188771, 16.90413719, 14.96564681, 13.8437982 ,\n",
       "         15.57302039, 13.74435114, 16.13815009, 11.9417583 ,\n",
       "         14.24462454, 17.07958992, 16.56479548, 18.40742415,\n",
       "         14.62521459, 15.3607553 , 15.66523243, 16.51396768],\n",
       "        [15.48451744, 16.21860252, 16.73475524, 14.01977158,\n",
       "         15.2318411 , 16.74083852, 19.33215009, 14.58482499,\n",
       "         19.65992836, 16.69487268, 15.59710391, 16.1999005 ,\n",
       "         16.94663876, 14.72449726, 13.22894553, 15.49473578,\n",
       "         16.11710786, 15.67558408, 17.55490246, 16.62419698,\n",
       "         17.51983468, 17.1769912 , 16.25739661, 17.83145028,\n",
       "         14.21867775, 14.63727322, 19.21572113, 15.15231597],\n",
       "        [14.59532626, 13.1798964 , 16.83131289, 16.53110953,\n",
       "         16.59306856, 15.98273796, 18.40235393, 16.74757142,\n",
       "         14.42269599, 16.9357959 , 17.91460327, 15.28855089,\n",
       "         14.01188467, 14.45307724, 18.05423186, 15.91964568,\n",
       "         15.53535936, 15.31826508, 17.39767255, 18.04440216,\n",
       "         16.81141354, 16.56506763, 17.69242178, 15.05480234,\n",
       "         14.66014014, 16.10725651, 15.94989137, 18.38393042],\n",
       "        [16.8094839 , 16.45086036, 14.49343944, 15.11982043,\n",
       "         15.3980775 , 15.6067629 , 19.09940959, 14.7280041 ,\n",
       "         15.51636875, 17.49680954, 16.5331408 , 15.52254449,\n",
       "         17.36007864, 13.85694025, 16.14768482, 12.66970741,\n",
       "         15.11886044, 17.72666181, 15.50386691, 14.31612545,\n",
       "         15.40935667, 15.95374172, 16.52613779, 13.5871328 ,\n",
       "         18.83066545, 16.83585281, 16.46448238, 16.71056463],\n",
       "        [15.41811597, 14.03286146, 13.51522586, 13.58192855,\n",
       "         16.4566394 , 16.441543  , 13.58879447, 15.85513079,\n",
       "         17.23324588, 17.63729235, 14.52287786, 16.10986288,\n",
       "         13.92380149, 19.20961154, 16.47788498, 17.94087369,\n",
       "         17.25554055, 17.95048262, 15.49780359, 16.09526067,\n",
       "         15.15928126, 14.4986382 , 14.2066489 , 16.94719386,\n",
       "         13.57006327, 14.95008177, 15.22870397, 15.28504766],\n",
       "        [15.01552365, 14.89293695, 15.99334694, 14.71016496,\n",
       "         17.65020871, 16.10307842, 15.53387976, 15.58324758,\n",
       "         16.10070427, 18.17535603, 17.0513938 , 18.29893555,\n",
       "         16.67538864, 12.21837676, 16.48244845, 14.85397897,\n",
       "         17.42096938, 17.69332395, 17.09627571, 14.24461618,\n",
       "         15.23503481, 17.20395286, 14.16260586, 18.66754886,\n",
       "         14.32956837, 14.78562657, 17.52897223, 17.42725679],\n",
       "        [17.58504072, 17.02286249, 17.17939924, 17.49527833,\n",
       "         14.71658849, 17.87067846, 15.65214343, 17.49820486,\n",
       "         16.51894114, 15.5088126 , 12.56216247, 14.76263892,\n",
       "         15.1717789 , 16.07800406, 15.96308324, 15.74166983,\n",
       "         18.70617611, 16.89566087, 17.58520081, 18.72321602,\n",
       "         16.0362092 , 13.63744303, 14.39139715, 14.44139196,\n",
       "         15.96091825, 15.94124943, 17.61383766, 12.54709389],\n",
       "        [12.607366  , 16.62539335, 16.04329761, 13.05575303,\n",
       "         13.14191584, 18.41080467, 17.00661167, 17.17181651,\n",
       "         18.87748472, 18.24385744, 14.0001298 , 17.93713135,\n",
       "         17.89886849, 14.60994588, 17.74976337, 14.63678271,\n",
       "         14.34078968, 18.79505643, 13.50311832, 11.48252525,\n",
       "         15.41655538, 14.71157753, 14.83454857, 17.77487706,\n",
       "         16.11721477, 14.18204788, 18.32463082, 15.6681616 ],\n",
       "        [12.6018031 , 13.39977263, 13.96149024, 16.54659955,\n",
       "         17.02228738, 17.93329519, 18.63248832, 17.51090826,\n",
       "         15.34034398, 16.74696581, 17.82419311, 17.73703617,\n",
       "         13.29146912, 16.48771682, 15.64669832, 19.23206304,\n",
       "         19.76487778, 18.77793086, 13.53352403, 13.84395959,\n",
       "         18.75484251, 16.61099777, 17.8804173 , 13.77425855,\n",
       "         15.63769059, 17.24893762, 18.2072123 , 15.42499839],\n",
       "        [14.45773791, 14.45498655, 14.76847683, 18.18297488,\n",
       "         15.68262144, 17.19252448, 15.40181136, 16.48079737,\n",
       "         18.50717215, 15.45098705, 17.54192874, 16.14352289,\n",
       "         16.15238189, 13.87250231, 13.33613802, 16.05735681,\n",
       "         12.90335444, 14.34197815, 17.85836641, 18.77022   ,\n",
       "         17.56732665, 17.2292444 , 15.35514531, 16.19057057,\n",
       "         15.08497396, 18.30772691, 14.48414433, 19.16753906],\n",
       "        [16.77283106, 16.53585262, 14.75847628, 18.98625893,\n",
       "         17.79594742, 16.74297193, 16.49608615, 14.17155938,\n",
       "         12.70069431, 15.31045718, 15.98164178, 14.6014599 ,\n",
       "         17.13016246, 14.84351526, 17.68526749, 18.08645436,\n",
       "         16.57548075, 17.62663224, 15.00671559, 17.63541897,\n",
       "         16.07798602, 15.70934518, 17.05516367, 15.22569169,\n",
       "         14.4419534 , 16.77139368, 13.85599374, 16.15948956],\n",
       "        [17.23410264, 15.56159779, 13.98086379, 15.4148785 ,\n",
       "         15.15318025, 16.26460291, 16.58039544, 15.77785405,\n",
       "         18.39811878, 16.31170604, 13.85330721, 17.35840997,\n",
       "         14.48692281, 15.24240021, 19.25110209, 14.95977779,\n",
       "         16.03111569, 16.74120989, 18.28706909, 14.8221334 ,\n",
       "         17.78461782, 14.76170696, 12.4905113 , 15.70264229,\n",
       "         12.81537965, 19.52035621, 18.18470517, 18.84144409],\n",
       "        [13.14827233, 15.74183084, 15.53364942, 17.95310096,\n",
       "         16.15997674, 16.2458658 , 16.77858337, 15.68759006,\n",
       "         15.62871281, 15.69628892, 15.65771486, 15.37126466,\n",
       "         14.6109217 , 15.71254048, 17.02578108, 15.770574  ,\n",
       "         15.26186371, 17.36155992, 13.51734302, 15.89476448,\n",
       "         13.60650046, 17.73796759, 15.30560663, 14.08084769,\n",
       "         15.03125282, 15.32079816, 14.92734836, 14.3302729 ],\n",
       "        [13.46907448, 16.97316116, 13.90998164, 19.33324604,\n",
       "         15.49018826, 18.79630395, 16.63072763, 16.11880673,\n",
       "         16.43387497, 13.14518608, 11.81028404, 14.65897259,\n",
       "         13.90228309, 11.94199037, 15.5070724 , 13.26893393,\n",
       "         16.77175597, 17.2383238 , 15.94327513, 16.89031574,\n",
       "         15.68155086, 16.33172965, 17.10329378, 15.06393343,\n",
       "         20.72766516, 18.55205635, 15.135254  , 16.05944037],\n",
       "        [14.30896226, 16.90911449, 14.58486027, 17.28171657,\n",
       "         17.31171039, 15.50629902, 14.81010982, 14.77963209,\n",
       "         16.15144821, 14.18663438, 17.04890968, 17.62643448,\n",
       "         13.53904687, 14.94363918, 17.40450051, 11.14633635,\n",
       "         17.01498075, 20.48977243, 18.52136114, 14.45655577,\n",
       "         16.00533109, 16.61389085, 14.60093426, 16.65990989,\n",
       "         15.20443989, 17.98840817, 14.97148281, 19.37832625],\n",
       "        [14.94971936, 13.23872744, 15.85346561, 14.5430757 ,\n",
       "         17.16786292, 16.94128811, 20.73177839, 12.66123932,\n",
       "         15.34094813, 12.96240425, 17.08010921, 17.31509209,\n",
       "         16.25511169, 16.2011883 , 16.75256616, 14.34230425,\n",
       "         18.35214151, 14.76178318, 13.20201288, 14.92046386,\n",
       "         17.43236708, 15.92677423, 15.73915582, 16.20001306,\n",
       "         17.64345007, 14.3627253 , 13.71642782, 13.96905901],\n",
       "        [14.47606359, 15.59264251, 14.83166254, 18.58761761,\n",
       "         16.05726249, 17.24250611, 15.49381279, 14.62698731,\n",
       "         15.10059061, 19.49603562, 15.55521305, 12.52632084,\n",
       "         16.60188155, 15.78893534, 18.60507601, 12.61600989,\n",
       "         15.30086965, 18.03900642, 13.16417504, 15.29689876,\n",
       "         17.07694771, 17.95487194, 16.46386158, 15.23388745,\n",
       "         14.99710035, 16.69241857, 13.35502629, 15.66091696],\n",
       "        [18.51253939, 16.11196663, 20.50024939, 15.393736  ,\n",
       "         18.80786644, 17.17722617, 14.88621613, 16.50992034,\n",
       "         19.50057619, 16.5363769 , 13.98909138, 13.50733095,\n",
       "         15.17081114, 14.39039575, 14.82269611, 15.76784267,\n",
       "         17.81898333, 16.46901534, 17.74175585, 16.4600587 ,\n",
       "         17.99635619, 18.24021649, 14.8545079 , 15.5766423 ,\n",
       "         13.45917964, 16.60383634, 13.60430203, 17.39960122],\n",
       "        [14.41174396, 16.27618681, 19.60809326, 19.51980206,\n",
       "         15.36768231, 18.74831242, 16.88088517, 16.44493144,\n",
       "         15.73241168, 18.57436289, 16.99033699, 17.67052692,\n",
       "         16.84275854, 14.75251093, 14.81937638, 16.0238126 ,\n",
       "         14.71769546, 16.53099934, 15.00609963, 17.88459156,\n",
       "         15.26135791, 15.70284586, 14.25988346, 16.80565496,\n",
       "         16.39152307, 17.78482098, 16.28405266, 15.99109308],\n",
       "        [13.59358554, 18.676961  , 16.26174199, 17.03649086,\n",
       "         17.05740957, 16.09713867, 18.83097444, 15.2145039 ,\n",
       "         14.90227675, 15.0785556 , 15.90465748, 16.02690644,\n",
       "         16.76411784, 17.0574911 , 17.51796523, 16.69566586,\n",
       "         15.22120636, 15.68692482, 14.96413531, 17.84638223,\n",
       "         15.71525929, 14.44928857, 13.39649386, 15.3976148 ,\n",
       "         14.55709707, 13.14717366, 17.77755784, 14.31073289],\n",
       "        [18.49831785, 17.67018563, 14.03176833, 16.32231618,\n",
       "         16.19991548, 16.70602173, 14.38911164, 13.95853135,\n",
       "         14.46410174, 14.96541   , 14.71272697, 14.67746553,\n",
       "         16.16838361, 16.82980996, 17.7898717 , 16.10931741,\n",
       "         16.4392097 , 15.57493502, 18.40018385, 15.06823093,\n",
       "         14.77947281, 13.77637628, 14.64723871, 14.63405011,\n",
       "         17.1837999 , 17.21449193, 18.58868765, 12.15936232],\n",
       "        [17.10197027, 16.17066994, 17.52177723, 14.62476592,\n",
       "         14.56440462, 17.28391859, 14.31045161, 13.86639309,\n",
       "         14.99001043, 17.72970664, 13.19903937, 17.80874931,\n",
       "         17.86336945, 16.72094059, 15.96181079, 13.60080894,\n",
       "         14.25366232, 14.31924745, 14.67680942, 18.19051008,\n",
       "         16.12089353, 17.50473814, 17.64102519, 16.27438503,\n",
       "         16.46986107, 14.95414879, 15.61154556, 16.72220166],\n",
       "        [13.63420582, 16.94443431, 16.09560121, 15.5280196 ,\n",
       "         12.37559623, 16.46128478, 14.01969325, 17.32746597,\n",
       "         15.32801381, 18.41647223, 17.27715917, 18.19967265,\n",
       "         17.3551523 , 15.09262601, 15.22962888, 18.28530146,\n",
       "         18.9850338 , 13.34546324, 12.63608254, 16.98540196,\n",
       "         17.93672692, 17.20673108, 15.47279768, 17.95562163,\n",
       "         15.83720079, 15.07434349, 16.59657285, 19.50188503],\n",
       "        [14.88062876, 16.29033937, 15.55608003, 17.19044423,\n",
       "         14.63995609, 16.95575872, 18.58620463, 16.22642509,\n",
       "         14.80701733, 16.06249097, 15.89375088, 14.86677211,\n",
       "         16.7608909 , 16.44317495, 15.72552165, 15.77276105,\n",
       "         16.58340135, 17.93299692, 16.4579336 , 14.13307653,\n",
       "         15.86730596, 16.45079112, 13.22928898, 16.5802304 ,\n",
       "         12.80602065, 15.13024524, 16.66977933, 17.21907327],\n",
       "        [15.74075079, 17.46043299, 17.05968735, 15.59362099,\n",
       "         18.2192971 , 16.15325073, 18.09100626, 15.92357291,\n",
       "         16.76838411, 18.52052926, 18.30169329, 17.55968729,\n",
       "         17.94867654, 16.07668326, 17.13157715, 14.68818476,\n",
       "         15.51507951, 19.03760845, 13.86735525, 12.18784503,\n",
       "         14.27959583, 16.63012331, 17.11296381, 17.58550199,\n",
       "         18.86282486, 12.64682774, 12.66984541, 14.62443393],\n",
       "        [20.73584874, 16.54615225, 17.11512039, 15.34569157,\n",
       "         17.26464994, 17.3004639 , 17.5504205 , 15.34830636,\n",
       "         15.90253829, 14.24837519, 16.34585787, 14.97103162,\n",
       "         19.02355114, 16.5257853 , 17.38527634, 16.31436563,\n",
       "         18.33613106, 16.33709447, 16.32992104, 18.51630318,\n",
       "         17.96618808, 17.80479161, 14.40197267, 13.30345819,\n",
       "         15.70147285, 17.50885832, 16.20437181, 12.75349588],\n",
       "        [18.47093162, 13.56410219, 14.83971609, 13.96345742,\n",
       "         18.1088294 , 17.55206806, 13.28939805, 17.7960796 ,\n",
       "         15.34175411, 17.80371912, 16.55980358, 16.34687677,\n",
       "         14.25644525, 16.15592497, 16.79149262, 14.88308516,\n",
       "         11.81980859, 19.08136125, 17.47388359, 15.22252841,\n",
       "         13.37956723, 16.05945277, 16.26303509, 14.95699814,\n",
       "         16.35475956, 17.02121626, 18.68262453, 12.75377365],\n",
       "        [18.34435709, 15.93059254, 14.17145944, 15.33756931,\n",
       "         13.17519792, 11.66401334, 13.60377121, 17.5554018 ,\n",
       "         16.22165912, 18.82484027, 18.69375555, 13.78406948,\n",
       "         17.17429936, 13.65185178, 14.13589418, 16.06371964,\n",
       "         16.41438878, 13.99007933, 15.84935895, 20.07518303,\n",
       "         15.15839196, 16.53478598, 15.13733853, 15.23180568,\n",
       "         13.62232768, 17.84616124, 15.18770795, 13.77766021]]])"
      ]
     },
     "execution_count": 148,
     "metadata": {},
     "output_type": "execute_result"
    }
   ],
   "source": [
    "np.sum(a, axis=0)"
   ]
  },
  {
   "cell_type": "code",
   "execution_count": 149,
   "id": "57eec5e5-d5f9-444e-b862-b82c24bc991f",
   "metadata": {},
   "outputs": [
    {
     "data": {
      "text/plain": [
       "(1, 28, 28)"
      ]
     },
     "execution_count": 149,
     "metadata": {},
     "output_type": "execute_result"
    }
   ],
   "source": [
    "np.sum(a,axis=0).shape"
   ]
  },
  {
   "cell_type": "code",
   "execution_count": 150,
   "id": "be7b55ee-4c39-4484-8b78-fafdacb9d901",
   "metadata": {},
   "outputs": [
    {
     "data": {
      "text/plain": [
       "(1, 28, 28)"
      ]
     },
     "execution_count": 150,
     "metadata": {},
     "output_type": "execute_result"
    }
   ],
   "source": [
    "np.sum(a,axis=0).shape"
   ]
  },
  {
   "cell_type": "code",
   "execution_count": 161,
   "id": "e8b545e3-8ff6-474c-ba8f-8d20582276f6",
   "metadata": {},
   "outputs": [
    {
     "data": {
      "text/plain": [
       "array([[1, 1, 1],\n",
       "       [1, 1, 1]])"
      ]
     },
     "execution_count": 161,
     "metadata": {},
     "output_type": "execute_result"
    }
   ],
   "source": [
    "a=np.random.randint(1,2,(2,3))\n",
    "b=np.random.random((2,3))\n",
    "a"
   ]
  },
  {
   "cell_type": "code",
   "execution_count": 162,
   "id": "61d6bb9e-718e-45e7-8eb1-2ec5fed69eef",
   "metadata": {},
   "outputs": [
    {
     "ename": "AxisError",
     "evalue": "axis 2 is out of bounds for array of dimension 2",
     "output_type": "error",
     "traceback": [
      "\u001b[1;31m---------------------------------------------------------------------------\u001b[0m",
      "\u001b[1;31mAxisError\u001b[0m                                 Traceback (most recent call last)",
      "Cell \u001b[1;32mIn[162], line 1\u001b[0m\n\u001b[1;32m----> 1\u001b[0m \u001b[43mnp\u001b[49m\u001b[38;5;241;43m.\u001b[39;49m\u001b[43msum\u001b[49m\u001b[43m(\u001b[49m\u001b[43ma\u001b[49m\u001b[43m,\u001b[49m\u001b[43maxis\u001b[49m\u001b[38;5;241;43m=\u001b[39;49m\u001b[38;5;241;43m2\u001b[39;49m\u001b[43m)\u001b[49m\u001b[38;5;241m.\u001b[39mshape\n",
      "File \u001b[1;32m~\\AppData\\Local\\Programs\\Python\\Python39\\lib\\site-packages\\numpy\\core\\fromnumeric.py:2313\u001b[0m, in \u001b[0;36msum\u001b[1;34m(a, axis, dtype, out, keepdims, initial, where)\u001b[0m\n\u001b[0;32m   2310\u001b[0m         \u001b[38;5;28;01mreturn\u001b[39;00m out\n\u001b[0;32m   2311\u001b[0m     \u001b[38;5;28;01mreturn\u001b[39;00m res\n\u001b[1;32m-> 2313\u001b[0m \u001b[38;5;28;01mreturn\u001b[39;00m \u001b[43m_wrapreduction\u001b[49m\u001b[43m(\u001b[49m\u001b[43ma\u001b[49m\u001b[43m,\u001b[49m\u001b[43m \u001b[49m\u001b[43mnp\u001b[49m\u001b[38;5;241;43m.\u001b[39;49m\u001b[43madd\u001b[49m\u001b[43m,\u001b[49m\u001b[43m \u001b[49m\u001b[38;5;124;43m'\u001b[39;49m\u001b[38;5;124;43msum\u001b[39;49m\u001b[38;5;124;43m'\u001b[39;49m\u001b[43m,\u001b[49m\u001b[43m \u001b[49m\u001b[43maxis\u001b[49m\u001b[43m,\u001b[49m\u001b[43m \u001b[49m\u001b[43mdtype\u001b[49m\u001b[43m,\u001b[49m\u001b[43m \u001b[49m\u001b[43mout\u001b[49m\u001b[43m,\u001b[49m\u001b[43m \u001b[49m\u001b[43mkeepdims\u001b[49m\u001b[38;5;241;43m=\u001b[39;49m\u001b[43mkeepdims\u001b[49m\u001b[43m,\u001b[49m\n\u001b[0;32m   2314\u001b[0m \u001b[43m                      \u001b[49m\u001b[43minitial\u001b[49m\u001b[38;5;241;43m=\u001b[39;49m\u001b[43minitial\u001b[49m\u001b[43m,\u001b[49m\u001b[43m \u001b[49m\u001b[43mwhere\u001b[49m\u001b[38;5;241;43m=\u001b[39;49m\u001b[43mwhere\u001b[49m\u001b[43m)\u001b[49m\n",
      "File \u001b[1;32m~\\AppData\\Local\\Programs\\Python\\Python39\\lib\\site-packages\\numpy\\core\\fromnumeric.py:88\u001b[0m, in \u001b[0;36m_wrapreduction\u001b[1;34m(obj, ufunc, method, axis, dtype, out, **kwargs)\u001b[0m\n\u001b[0;32m     85\u001b[0m         \u001b[38;5;28;01melse\u001b[39;00m:\n\u001b[0;32m     86\u001b[0m             \u001b[38;5;28;01mreturn\u001b[39;00m reduction(axis\u001b[38;5;241m=\u001b[39maxis, out\u001b[38;5;241m=\u001b[39mout, \u001b[38;5;241m*\u001b[39m\u001b[38;5;241m*\u001b[39mpasskwargs)\n\u001b[1;32m---> 88\u001b[0m \u001b[38;5;28;01mreturn\u001b[39;00m ufunc\u001b[38;5;241m.\u001b[39mreduce(obj, axis, dtype, out, \u001b[38;5;241m*\u001b[39m\u001b[38;5;241m*\u001b[39mpasskwargs)\n",
      "\u001b[1;31mAxisError\u001b[0m: axis 2 is out of bounds for array of dimension 2"
     ]
    }
   ],
   "source": [
    "np.sum(a,axis=2).shape"
   ]
  },
  {
   "cell_type": "code",
   "execution_count": 154,
   "id": "ed8d903e-1cb7-47ec-a2d1-5097f5097f7a",
   "metadata": {},
   "outputs": [
    {
     "data": {
      "text/plain": [
       "array([3, 3])"
      ]
     },
     "execution_count": 154,
     "metadata": {},
     "output_type": "execute_result"
    }
   ],
   "source": [
    "np.sum(a,axis=1)"
   ]
  },
  {
   "cell_type": "code",
   "execution_count": 160,
   "id": "f0f41c41-21fe-4160-9a7b-92ff61974920",
   "metadata": {},
   "outputs": [
    {
     "ename": "AxisError",
     "evalue": "axis 2 is out of bounds for array of dimension 2",
     "output_type": "error",
     "traceback": [
      "\u001b[1;31m---------------------------------------------------------------------------\u001b[0m",
      "\u001b[1;31mAxisError\u001b[0m                                 Traceback (most recent call last)",
      "Cell \u001b[1;32mIn[160], line 1\u001b[0m\n\u001b[1;32m----> 1\u001b[0m \u001b[43mnp\u001b[49m\u001b[38;5;241;43m.\u001b[39;49m\u001b[43msum\u001b[49m\u001b[43m(\u001b[49m\u001b[43ma\u001b[49m\u001b[43m,\u001b[49m\u001b[43maxis\u001b[49m\u001b[38;5;241;43m=\u001b[39;49m\u001b[38;5;241;43m2\u001b[39;49m\u001b[43m)\u001b[49m\u001b[38;5;241m.\u001b[39mshape\n",
      "File \u001b[1;32m~\\AppData\\Local\\Programs\\Python\\Python39\\lib\\site-packages\\numpy\\core\\fromnumeric.py:2313\u001b[0m, in \u001b[0;36msum\u001b[1;34m(a, axis, dtype, out, keepdims, initial, where)\u001b[0m\n\u001b[0;32m   2310\u001b[0m         \u001b[38;5;28;01mreturn\u001b[39;00m out\n\u001b[0;32m   2311\u001b[0m     \u001b[38;5;28;01mreturn\u001b[39;00m res\n\u001b[1;32m-> 2313\u001b[0m \u001b[38;5;28;01mreturn\u001b[39;00m \u001b[43m_wrapreduction\u001b[49m\u001b[43m(\u001b[49m\u001b[43ma\u001b[49m\u001b[43m,\u001b[49m\u001b[43m \u001b[49m\u001b[43mnp\u001b[49m\u001b[38;5;241;43m.\u001b[39;49m\u001b[43madd\u001b[49m\u001b[43m,\u001b[49m\u001b[43m \u001b[49m\u001b[38;5;124;43m'\u001b[39;49m\u001b[38;5;124;43msum\u001b[39;49m\u001b[38;5;124;43m'\u001b[39;49m\u001b[43m,\u001b[49m\u001b[43m \u001b[49m\u001b[43maxis\u001b[49m\u001b[43m,\u001b[49m\u001b[43m \u001b[49m\u001b[43mdtype\u001b[49m\u001b[43m,\u001b[49m\u001b[43m \u001b[49m\u001b[43mout\u001b[49m\u001b[43m,\u001b[49m\u001b[43m \u001b[49m\u001b[43mkeepdims\u001b[49m\u001b[38;5;241;43m=\u001b[39;49m\u001b[43mkeepdims\u001b[49m\u001b[43m,\u001b[49m\n\u001b[0;32m   2314\u001b[0m \u001b[43m                      \u001b[49m\u001b[43minitial\u001b[49m\u001b[38;5;241;43m=\u001b[39;49m\u001b[43minitial\u001b[49m\u001b[43m,\u001b[49m\u001b[43m \u001b[49m\u001b[43mwhere\u001b[49m\u001b[38;5;241;43m=\u001b[39;49m\u001b[43mwhere\u001b[49m\u001b[43m)\u001b[49m\n",
      "File \u001b[1;32m~\\AppData\\Local\\Programs\\Python\\Python39\\lib\\site-packages\\numpy\\core\\fromnumeric.py:88\u001b[0m, in \u001b[0;36m_wrapreduction\u001b[1;34m(obj, ufunc, method, axis, dtype, out, **kwargs)\u001b[0m\n\u001b[0;32m     85\u001b[0m         \u001b[38;5;28;01melse\u001b[39;00m:\n\u001b[0;32m     86\u001b[0m             \u001b[38;5;28;01mreturn\u001b[39;00m reduction(axis\u001b[38;5;241m=\u001b[39maxis, out\u001b[38;5;241m=\u001b[39mout, \u001b[38;5;241m*\u001b[39m\u001b[38;5;241m*\u001b[39mpasskwargs)\n\u001b[1;32m---> 88\u001b[0m \u001b[38;5;28;01mreturn\u001b[39;00m ufunc\u001b[38;5;241m.\u001b[39mreduce(obj, axis, dtype, out, \u001b[38;5;241m*\u001b[39m\u001b[38;5;241m*\u001b[39mpasskwargs)\n",
      "\u001b[1;31mAxisError\u001b[0m: axis 2 is out of bounds for array of dimension 2"
     ]
    }
   ],
   "source": []
  },
  {
   "cell_type": "code",
   "execution_count": 156,
   "id": "aeaf61a1-aeb7-43cc-8a2c-6f40fbb2c94b",
   "metadata": {},
   "outputs": [
    {
     "data": {
      "text/plain": [
       "1"
      ]
     },
     "execution_count": 156,
     "metadata": {},
     "output_type": "execute_result"
    }
   ],
   "source": [
    "np.random.randint(1,2)"
   ]
  },
  {
   "cell_type": "code",
   "execution_count": 159,
   "id": "eb91bdd9-7d3b-4ce9-b9d9-f07879d71eb2",
   "metadata": {},
   "outputs": [
    {
     "ename": "AxisError",
     "evalue": "axis 2 is out of bounds for array of dimension 2",
     "output_type": "error",
     "traceback": [
      "\u001b[1;31m---------------------------------------------------------------------------\u001b[0m",
      "\u001b[1;31mAxisError\u001b[0m                                 Traceback (most recent call last)",
      "Cell \u001b[1;32mIn[159], line 1\u001b[0m\n\u001b[1;32m----> 1\u001b[0m \u001b[43mnp\u001b[49m\u001b[38;5;241;43m.\u001b[39;49m\u001b[43msum\u001b[49m\u001b[43m(\u001b[49m\u001b[43ma\u001b[49m\u001b[43m,\u001b[49m\u001b[43maxis\u001b[49m\u001b[38;5;241;43m=\u001b[39;49m\u001b[38;5;241;43m2\u001b[39;49m\u001b[43m)\u001b[49m\u001b[38;5;241m.\u001b[39mshape\n",
      "File \u001b[1;32m~\\AppData\\Local\\Programs\\Python\\Python39\\lib\\site-packages\\numpy\\core\\fromnumeric.py:2313\u001b[0m, in \u001b[0;36msum\u001b[1;34m(a, axis, dtype, out, keepdims, initial, where)\u001b[0m\n\u001b[0;32m   2310\u001b[0m         \u001b[38;5;28;01mreturn\u001b[39;00m out\n\u001b[0;32m   2311\u001b[0m     \u001b[38;5;28;01mreturn\u001b[39;00m res\n\u001b[1;32m-> 2313\u001b[0m \u001b[38;5;28;01mreturn\u001b[39;00m \u001b[43m_wrapreduction\u001b[49m\u001b[43m(\u001b[49m\u001b[43ma\u001b[49m\u001b[43m,\u001b[49m\u001b[43m \u001b[49m\u001b[43mnp\u001b[49m\u001b[38;5;241;43m.\u001b[39;49m\u001b[43madd\u001b[49m\u001b[43m,\u001b[49m\u001b[43m \u001b[49m\u001b[38;5;124;43m'\u001b[39;49m\u001b[38;5;124;43msum\u001b[39;49m\u001b[38;5;124;43m'\u001b[39;49m\u001b[43m,\u001b[49m\u001b[43m \u001b[49m\u001b[43maxis\u001b[49m\u001b[43m,\u001b[49m\u001b[43m \u001b[49m\u001b[43mdtype\u001b[49m\u001b[43m,\u001b[49m\u001b[43m \u001b[49m\u001b[43mout\u001b[49m\u001b[43m,\u001b[49m\u001b[43m \u001b[49m\u001b[43mkeepdims\u001b[49m\u001b[38;5;241;43m=\u001b[39;49m\u001b[43mkeepdims\u001b[49m\u001b[43m,\u001b[49m\n\u001b[0;32m   2314\u001b[0m \u001b[43m                      \u001b[49m\u001b[43minitial\u001b[49m\u001b[38;5;241;43m=\u001b[39;49m\u001b[43minitial\u001b[49m\u001b[43m,\u001b[49m\u001b[43m \u001b[49m\u001b[43mwhere\u001b[49m\u001b[38;5;241;43m=\u001b[39;49m\u001b[43mwhere\u001b[49m\u001b[43m)\u001b[49m\n",
      "File \u001b[1;32m~\\AppData\\Local\\Programs\\Python\\Python39\\lib\\site-packages\\numpy\\core\\fromnumeric.py:88\u001b[0m, in \u001b[0;36m_wrapreduction\u001b[1;34m(obj, ufunc, method, axis, dtype, out, **kwargs)\u001b[0m\n\u001b[0;32m     85\u001b[0m         \u001b[38;5;28;01melse\u001b[39;00m:\n\u001b[0;32m     86\u001b[0m             \u001b[38;5;28;01mreturn\u001b[39;00m reduction(axis\u001b[38;5;241m=\u001b[39maxis, out\u001b[38;5;241m=\u001b[39mout, \u001b[38;5;241m*\u001b[39m\u001b[38;5;241m*\u001b[39mpasskwargs)\n\u001b[1;32m---> 88\u001b[0m \u001b[38;5;28;01mreturn\u001b[39;00m ufunc\u001b[38;5;241m.\u001b[39mreduce(obj, axis, dtype, out, \u001b[38;5;241m*\u001b[39m\u001b[38;5;241m*\u001b[39mpasskwargs)\n",
      "\u001b[1;31mAxisError\u001b[0m: axis 2 is out of bounds for array of dimension 2"
     ]
    }
   ],
   "source": []
  },
  {
   "cell_type": "code",
   "execution_count": 166,
   "id": "fb8d0b39-dfff-4441-ab13-23b30a3fcfe3",
   "metadata": {},
   "outputs": [
    {
     "data": {
      "text/plain": [
       "array([9, 3, 4, 2, 4, 9, 2, 6, 4, 4])"
      ]
     },
     "execution_count": 166,
     "metadata": {},
     "output_type": "execute_result"
    }
   ],
   "source": [
    "a=np.random.randint(1,10,size=10)\n",
    "a"
   ]
  },
  {
   "cell_type": "code",
   "execution_count": 168,
   "id": "f5bc200d-d2f1-442c-8423-47e354922012",
   "metadata": {},
   "outputs": [
    {
     "data": {
      "text/plain": [
       "3"
      ]
     },
     "execution_count": 168,
     "metadata": {},
     "output_type": "execute_result"
    }
   ],
   "source": [
    "np.argmin(a)"
   ]
  },
  {
   "cell_type": "code",
   "execution_count": 169,
   "id": "6990e3f8-fe5c-4068-9454-4770bf33f8ac",
   "metadata": {},
   "outputs": [
    {
     "data": {
      "text/plain": [
       "9"
      ]
     },
     "execution_count": 169,
     "metadata": {},
     "output_type": "execute_result"
    }
   ],
   "source": [
    "np.max(a)"
   ]
  },
  {
   "cell_type": "code",
   "execution_count": 170,
   "id": "4ed5c03a-ab56-4020-9782-8a33d043b4ff",
   "metadata": {},
   "outputs": [
    {
     "data": {
      "text/plain": [
       "0"
      ]
     },
     "execution_count": 170,
     "metadata": {},
     "output_type": "execute_result"
    }
   ],
   "source": [
    "np.argmax(a)"
   ]
  },
  {
   "cell_type": "code",
   "execution_count": 171,
   "id": "4d6a2f69-9a29-4738-88a8-07065bc29f28",
   "metadata": {},
   "outputs": [
    {
     "data": {
      "text/plain": [
       "(32, 1, 28, 28)"
      ]
     },
     "execution_count": 171,
     "metadata": {},
     "output_type": "execute_result"
    }
   ],
   "source": [
    "a=np.random.random((32,1,28,28))\n",
    "a.shape"
   ]
  },
  {
   "cell_type": "code",
   "execution_count": 178,
   "id": "b208872a-6a66-4365-86ce-c20a5cc6007c",
   "metadata": {},
   "outputs": [
    {
     "data": {
      "text/plain": [
       "(0.4999903119045023,\n",
       " 0.2898208161450737,\n",
       " 4.099154093606394e-06,\n",
       " 0.9999446128568541,\n",
       " 0.497956537856095)"
      ]
     },
     "execution_count": 178,
     "metadata": {},
     "output_type": "execute_result"
    }
   ],
   "source": [
    "np.mean(a), np.std(a), np.min(a), np.max(a), np.median(a)"
   ]
  },
  {
   "cell_type": "code",
   "execution_count": 180,
   "id": "1b66b2a3-cbc1-42e1-abe7-9d7358f2f2ab",
   "metadata": {},
   "outputs": [
    {
     "ename": "NameError",
     "evalue": "name 'x_trian' is not defined",
     "output_type": "error",
     "traceback": [
      "\u001b[1;31m---------------------------------------------------------------------------\u001b[0m",
      "\u001b[1;31mNameError\u001b[0m                                 Traceback (most recent call last)",
      "Cell \u001b[1;32mIn[180], line 1\u001b[0m\n\u001b[1;32m----> 1\u001b[0m x_train_std\u001b[38;5;241m=\u001b[39m(\u001b[43mx_trian\u001b[49m\u001b[38;5;241m-\u001b[39mnp\u001b[38;5;241m.\u001b[39mmean(a))\u001b[38;5;241m/\u001b[39mnp\u001b[38;5;241m.\u001b[39mstd(a)\n",
      "\u001b[1;31mNameError\u001b[0m: name 'x_trian' is not defined"
     ]
    }
   ],
   "source": [
    "x_train_std=(x_trian-np.mean(a))/np.std(a)"
   ]
  },
  {
   "cell_type": "code",
   "execution_count": 182,
   "id": "5a7b026c-46a3-4822-a38f-b381db22178d",
   "metadata": {},
   "outputs": [],
   "source": [
    "a=np.array([[1,2,3],\n",
    "            [4,5,6]])"
   ]
  },
  {
   "cell_type": "code",
   "execution_count": 183,
   "id": "60d2e917-da3c-45da-8a4c-b24fc74c972d",
   "metadata": {},
   "outputs": [
    {
     "data": {
      "text/plain": [
       "array([[1, 2, 3],\n",
       "       [4, 5, 6]])"
      ]
     },
     "execution_count": 183,
     "metadata": {},
     "output_type": "execute_result"
    }
   ],
   "source": [
    "a"
   ]
  },
  {
   "cell_type": "code",
   "execution_count": 184,
   "id": "f101aa01-dc65-4c14-8585-371f20c7df51",
   "metadata": {},
   "outputs": [
    {
     "data": {
      "text/plain": [
       "(2, 3)"
      ]
     },
     "execution_count": 184,
     "metadata": {},
     "output_type": "execute_result"
    }
   ],
   "source": [
    "a.shape"
   ]
  },
  {
   "cell_type": "code",
   "execution_count": 185,
   "id": "1b48d20a-9d09-4e1e-b91e-4e66c646d8f1",
   "metadata": {},
   "outputs": [
    {
     "data": {
      "text/plain": [
       "(2, 3)"
      ]
     },
     "execution_count": 185,
     "metadata": {},
     "output_type": "execute_result"
    }
   ],
   "source": [
    "b=np.arange(1,7).reshape((2,3))\n",
    "b.shape"
   ]
  },
  {
   "cell_type": "code",
   "execution_count": 191,
   "id": "46391b9f-5f07-4501-8e6e-e80f7863e0d3",
   "metadata": {},
   "outputs": [
    {
     "data": {
      "text/plain": [
       "array([[1, 2, 3],\n",
       "       [4, 5, 6]])"
      ]
     },
     "execution_count": 191,
     "metadata": {},
     "output_type": "execute_result"
    }
   ],
   "source": [
    "b"
   ]
  },
  {
   "cell_type": "code",
   "execution_count": 186,
   "id": "59de6a4e-7e92-4d9c-a3f9-523aec0131f0",
   "metadata": {},
   "outputs": [
    {
     "data": {
      "text/plain": [
       "array([[2, 3, 4],\n",
       "       [5, 6, 7]])"
      ]
     },
     "execution_count": 186,
     "metadata": {},
     "output_type": "execute_result"
    }
   ],
   "source": [
    "a+1"
   ]
  },
  {
   "cell_type": "code",
   "execution_count": 189,
   "id": "34275077-f4e7-4895-a7d0-aaca0ee0456a",
   "metadata": {},
   "outputs": [
    {
     "data": {
      "text/plain": [
       "array([[2, 4, 6],\n",
       "       [5, 7, 9]])"
      ]
     },
     "execution_count": 189,
     "metadata": {},
     "output_type": "execute_result"
    }
   ],
   "source": [
    "a+np.array([[1,2,3]])"
   ]
  },
  {
   "cell_type": "code",
   "execution_count": 190,
   "id": "7978fffc-e86c-40be-9ca6-fa6f94127e6a",
   "metadata": {},
   "outputs": [
    {
     "data": {
      "text/plain": [
       "array([[ 2,  4,  6],\n",
       "       [ 8, 10, 12]])"
      ]
     },
     "execution_count": 190,
     "metadata": {},
     "output_type": "execute_result"
    }
   ],
   "source": [
    "a+b"
   ]
  },
  {
   "cell_type": "code",
   "execution_count": 192,
   "id": "5417ba06-58d1-47d9-a238-e8c9ca3955ae",
   "metadata": {},
   "outputs": [
    {
     "data": {
      "text/plain": [
       "array([[2, 3, 4],\n",
       "       [5, 6, 7]])"
      ]
     },
     "execution_count": 192,
     "metadata": {},
     "output_type": "execute_result"
    }
   ],
   "source": [
    "a+1"
   ]
  },
  {
   "cell_type": "code",
   "execution_count": 193,
   "id": "c623837e-78d6-4d68-9b5f-40986720b8d9",
   "metadata": {},
   "outputs": [
    {
     "data": {
      "text/plain": [
       "array([0, 1, 2, 3, 4, 5, 6, 7, 8, 9])"
      ]
     },
     "execution_count": 193,
     "metadata": {},
     "output_type": "execute_result"
    }
   ],
   "source": [
    "a=np.arange(10)\n",
    "a"
   ]
  },
  {
   "cell_type": "code",
   "execution_count": 196,
   "id": "0f803bf7-0fe5-4bb6-9ded-7390d62d6fbc",
   "metadata": {},
   "outputs": [
    {
     "data": {
      "text/plain": [
       "array([False, False, False, False, False, False,  True,  True,  True,\n",
       "        True])"
      ]
     },
     "execution_count": 196,
     "metadata": {},
     "output_type": "execute_result"
    }
   ],
   "source": [
    "mask=a>5\n",
    "mask"
   ]
  },
  {
   "cell_type": "code",
   "execution_count": 198,
   "id": "b0bcf23f-8dc1-4d61-9583-e53844045fa6",
   "metadata": {},
   "outputs": [
    {
     "data": {
      "text/plain": [
       "array([6, 7, 8, 9])"
      ]
     },
     "execution_count": 198,
     "metadata": {},
     "output_type": "execute_result"
    }
   ],
   "source": [
    "a[mask]"
   ]
  },
  {
   "cell_type": "code",
   "execution_count": 199,
   "id": "fadd0390-cc09-4faa-91e5-1062d8eecfde",
   "metadata": {},
   "outputs": [
    {
     "data": {
      "text/plain": [
       "((32, 1, 28, 28), (32, 1))"
      ]
     },
     "execution_count": 199,
     "metadata": {},
     "output_type": "execute_result"
    }
   ],
   "source": [
    "x_train=np.random.random((32,1,28,28))\n",
    "y_label=np.random.randint(0,10,(32,1))\n",
    "x_train.shape, y_label.shape"
   ]
  },
  {
   "cell_type": "code",
   "execution_count": 204,
   "id": "ce1caeb9-d46a-4b72-a7c5-6b1f4cbcd059",
   "metadata": {},
   "outputs": [
    {
     "data": {
      "text/plain": [
       "(32,)"
      ]
     },
     "execution_count": 204,
     "metadata": {},
     "output_type": "execute_result"
    }
   ],
   "source": [
    "mask=y_label==3\n",
    "mask.flatten().shape"
   ]
  },
  {
   "cell_type": "code",
   "execution_count": 206,
   "id": "12ede2b6-edd1-4696-9dd4-1c42a0b88570",
   "metadata": {},
   "outputs": [
    {
     "data": {
      "text/plain": [
       "(32,)"
      ]
     },
     "execution_count": 206,
     "metadata": {},
     "output_type": "execute_result"
    }
   ],
   "source": [
    "mask = (y_label ==3) | (y_label==4)\n",
    "mask.flatten().shape"
   ]
  },
  {
   "cell_type": "code",
   "execution_count": 205,
   "id": "50a5a23f-5523-420d-8682-6d9348a77a39",
   "metadata": {},
   "outputs": [
    {
     "data": {
      "text/plain": [
       "2"
      ]
     },
     "execution_count": 205,
     "metadata": {},
     "output_type": "execute_result"
    }
   ],
   "source": [
    "np.sum(mask)"
   ]
  },
  {
   "cell_type": "code",
   "execution_count": 203,
   "id": "5e54fa9b-14af-400d-8668-bd5c1fe0db8d",
   "metadata": {},
   "outputs": [
    {
     "data": {
      "text/plain": [
       "array([[False],\n",
       "       [False],\n",
       "       [False],\n",
       "       [False],\n",
       "       [False],\n",
       "       [False],\n",
       "       [False],\n",
       "       [False],\n",
       "       [False],\n",
       "       [False],\n",
       "       [False],\n",
       "       [False],\n",
       "       [False],\n",
       "       [False],\n",
       "       [ True],\n",
       "       [False],\n",
       "       [False],\n",
       "       [False],\n",
       "       [False],\n",
       "       [False],\n",
       "       [False],\n",
       "       [False],\n",
       "       [False],\n",
       "       [False],\n",
       "       [False],\n",
       "       [ True],\n",
       "       [False],\n",
       "       [False],\n",
       "       [False],\n",
       "       [False],\n",
       "       [False],\n",
       "       [False]])"
      ]
     },
     "execution_count": 203,
     "metadata": {},
     "output_type": "execute_result"
    }
   ],
   "source": [
    "y_label==3"
   ]
  },
  {
   "cell_type": "code",
   "execution_count": 200,
   "id": "19177675-015e-49b6-a4d6-52417337b445",
   "metadata": {},
   "outputs": [
    {
     "data": {
      "text/plain": [
       "array([[6],\n",
       "       [2],\n",
       "       [2],\n",
       "       [6],\n",
       "       [5],\n",
       "       [7],\n",
       "       [8],\n",
       "       [8],\n",
       "       [4],\n",
       "       [8],\n",
       "       [9],\n",
       "       [0],\n",
       "       [0],\n",
       "       [2],\n",
       "       [3],\n",
       "       [7],\n",
       "       [5],\n",
       "       [1],\n",
       "       [9],\n",
       "       [0],\n",
       "       [7],\n",
       "       [0],\n",
       "       [8],\n",
       "       [1],\n",
       "       [7],\n",
       "       [3],\n",
       "       [0],\n",
       "       [9],\n",
       "       [9],\n",
       "       [6],\n",
       "       [7],\n",
       "       [4]])"
      ]
     },
     "execution_count": 200,
     "metadata": {},
     "output_type": "execute_result"
    }
   ],
   "source": [
    "y_label"
   ]
  },
  {
   "cell_type": "code",
   "execution_count": 207,
   "id": "0947d642-530b-4ccc-8270-adc9ed8c7b0f",
   "metadata": {},
   "outputs": [
    {
     "data": {
      "text/plain": [
       "array([1, 3, 5])"
      ]
     },
     "execution_count": 207,
     "metadata": {},
     "output_type": "execute_result"
    }
   ],
   "source": [
    "idx=[1,3,5]\n",
    "a[idx]"
   ]
  },
  {
   "cell_type": "code",
   "execution_count": 208,
   "id": "ce1347fa-c3d3-4692-87f5-95fe9376cffc",
   "metadata": {},
   "outputs": [
    {
     "data": {
      "text/plain": [
       "(array([6, 6, 0, 5, 2, 0, 9, 1, 8, 4]),\n",
       " array([2, 5, 7, 4, 9, 3, 0, 1, 8, 6], dtype=int64))"
      ]
     },
     "execution_count": 208,
     "metadata": {},
     "output_type": "execute_result"
    }
   ],
   "source": [
    "a= np.random.randint(0,10, size=10)\n",
    "idx = np.argsort(a)\n",
    "a, idx"
   ]
  },
  {
   "cell_type": "code",
   "execution_count": 209,
   "id": "bf442653-1d22-474c-806f-c0b99b8c4f2c",
   "metadata": {},
   "outputs": [
    {
     "data": {
      "text/plain": [
       "array([0, 0, 1, 2, 4])"
      ]
     },
     "execution_count": 209,
     "metadata": {},
     "output_type": "execute_result"
    }
   ],
   "source": [
    "a[idx[:5]]"
   ]
  },
  {
   "cell_type": "code",
   "execution_count": null,
   "id": "a905d1c6-600a-4cc6-91b5-166b390c4190",
   "metadata": {},
   "outputs": [],
   "source": [
    "\n"
   ]
  }
 ],
 "metadata": {
  "kernelspec": {
   "display_name": "Python 3 (ipykernel)",
   "language": "python",
   "name": "python3"
  },
  "language_info": {
   "codemirror_mode": {
    "name": "ipython",
    "version": 3
   },
   "file_extension": ".py",
   "mimetype": "text/x-python",
   "name": "python",
   "nbconvert_exporter": "python",
   "pygments_lexer": "ipython3",
   "version": "3.9.13"
  }
 },
 "nbformat": 4,
 "nbformat_minor": 5
}
